{
 "cells": [
  {
   "cell_type": "code",
   "execution_count": 1,
   "metadata": {},
   "outputs": [],
   "source": [
    "def vocab_vivos(path):\n",
    "    with open(path, 'r') as f:\n",
    "        lines = f.readlines()\n",
    "    vocab = set()\n",
    "    for line in lines:\n",
    "        words = line.strip().lower().split(\" \")[1:]\n",
    "        for word in words:\n",
    "            vocab.add(word)\n",
    "\n",
    "    return vocab"
   ]
  },
  {
   "cell_type": "code",
   "execution_count": 2,
   "metadata": {},
   "outputs": [],
   "source": [
    "vocab1 = vocab_vivos(\"datasets/vivos/train/prompts.txt\")\n",
    "vocab2 = vocab_vivos(\"datasets/vivos/test/prompts.txt\")"
   ]
  },
  {
   "cell_type": "code",
   "execution_count": 3,
   "metadata": {},
   "outputs": [],
   "source": [
    "# Check number of .wav in folder\n",
    "import os\n",
    "import glob\n",
    "import shutil\n",
    "\n",
    "def count_wav_files(path):\n",
    "    return len(glob.glob1(path, \"*.wav\")), len(glob.glob1(path, \"*.txt\"))\n",
    "\n",
    "count = count_wav_files(\"datasets/vlsp2020_train_set_02/\")"
   ]
  },
  {
   "cell_type": "code",
   "execution_count": 4,
   "metadata": {},
   "outputs": [
    {
     "data": {
      "text/plain": [
       "(56427, 56427)"
      ]
     },
     "execution_count": 4,
     "metadata": {},
     "output_type": "execute_result"
    }
   ],
   "source": [
    "count"
   ]
  },
  {
   "cell_type": "code",
   "execution_count": 6,
   "metadata": {},
   "outputs": [],
   "source": [
    "# Read tsv file\n",
    "import pandas as pd\n",
    "\n",
    "df = pd.read_csv(\"data_mau/metadata/train.tsv\", sep=\"\\t\")"
   ]
  },
  {
   "cell_type": "code",
   "execution_count": 7,
   "metadata": {},
   "outputs": [
    {
     "data": {
      "text/html": [
       "<div>\n",
       "<style scoped>\n",
       "    .dataframe tbody tr th:only-of-type {\n",
       "        vertical-align: middle;\n",
       "    }\n",
       "\n",
       "    .dataframe tbody tr th {\n",
       "        vertical-align: top;\n",
       "    }\n",
       "\n",
       "    .dataframe thead th {\n",
       "        text-align: right;\n",
       "    }\n",
       "</style>\n",
       "<table border=\"1\" class=\"dataframe\">\n",
       "  <thead>\n",
       "    <tr style=\"text-align: right;\">\n",
       "      <th></th>\n",
       "      <th>/mnt/data/LibriSpeech</th>\n",
       "    </tr>\n",
       "  </thead>\n",
       "  <tbody>\n",
       "    <tr>\n",
       "      <th>train-clean-100/103/1240/103-1240-0000.flac</th>\n",
       "      <td>225280</td>\n",
       "    </tr>\n",
       "    <tr>\n",
       "      <th>train-clean-100/103/1240/103-1240-0001.flac</th>\n",
       "      <td>254720</td>\n",
       "    </tr>\n",
       "    <tr>\n",
       "      <th>train-clean-100/103/1240/103-1240-0002.flac</th>\n",
       "      <td>222720</td>\n",
       "    </tr>\n",
       "    <tr>\n",
       "      <th>train-clean-100/103/1240/103-1240-0003.flac</th>\n",
       "      <td>234240</td>\n",
       "    </tr>\n",
       "    <tr>\n",
       "      <th>train-clean-100/103/1240/103-1240-0004.flac</th>\n",
       "      <td>199680</td>\n",
       "    </tr>\n",
       "    <tr>\n",
       "      <th>...</th>\n",
       "      <td>...</td>\n",
       "    </tr>\n",
       "    <tr>\n",
       "      <th>train-other-500/985/126228/985-126228-0047.flac</th>\n",
       "      <td>241920</td>\n",
       "    </tr>\n",
       "    <tr>\n",
       "      <th>train-other-500/985/126228/985-126228-0048.flac</th>\n",
       "      <td>231680</td>\n",
       "    </tr>\n",
       "    <tr>\n",
       "      <th>train-other-500/985/126228/985-126228-0049.flac</th>\n",
       "      <td>162560</td>\n",
       "    </tr>\n",
       "    <tr>\n",
       "      <th>train-other-500/985/126228/985-126228-0050.flac</th>\n",
       "      <td>133120</td>\n",
       "    </tr>\n",
       "    <tr>\n",
       "      <th>train-other-500/985/126228/985-126228-0051.flac</th>\n",
       "      <td>268800</td>\n",
       "    </tr>\n",
       "  </tbody>\n",
       "</table>\n",
       "<p>281241 rows × 1 columns</p>\n",
       "</div>"
      ],
      "text/plain": [
       "                                                 /mnt/data/LibriSpeech\n",
       "train-clean-100/103/1240/103-1240-0000.flac                     225280\n",
       "train-clean-100/103/1240/103-1240-0001.flac                     254720\n",
       "train-clean-100/103/1240/103-1240-0002.flac                     222720\n",
       "train-clean-100/103/1240/103-1240-0003.flac                     234240\n",
       "train-clean-100/103/1240/103-1240-0004.flac                     199680\n",
       "...                                                                ...\n",
       "train-other-500/985/126228/985-126228-0047.flac                 241920\n",
       "train-other-500/985/126228/985-126228-0048.flac                 231680\n",
       "train-other-500/985/126228/985-126228-0049.flac                 162560\n",
       "train-other-500/985/126228/985-126228-0050.flac                 133120\n",
       "train-other-500/985/126228/985-126228-0051.flac                 268800\n",
       "\n",
       "[281241 rows x 1 columns]"
      ]
     },
     "execution_count": 7,
     "metadata": {},
     "output_type": "execute_result"
    }
   ],
   "source": [
    "df_T6 = pd.read_csv(\"/home/jovyan/ai-core/speech_to_text/data/ghtk_T6/final_label.csv\", delimiter=\";\")\n",
    "df_T9 = pd.read_csv(\"/home/jovyan/ai-core/speech_to_text/data/ghtk_T9/final_label.csv\", delimiter=\";\")\n"
   ]
  },
  {
   "cell_type": "code",
   "execution_count": null,
   "metadata": {},
   "outputs": [],
   "source": []
  }
 ],
 "metadata": {
  "kernelspec": {
   "display_name": "Python 3",
   "language": "python",
   "name": "python3"
  },
  "language_info": {
   "codemirror_mode": {
    "name": "ipython",
    "version": 3
   },
   "file_extension": ".py",
   "mimetype": "text/x-python",
   "name": "python",
   "nbconvert_exporter": "python",
   "pygments_lexer": "ipython3",
   "version": "3.9.20"
  }
 },
 "nbformat": 4,
 "nbformat_minor": 2
}
