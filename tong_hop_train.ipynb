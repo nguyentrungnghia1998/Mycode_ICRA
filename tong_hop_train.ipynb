{
 "cells": [
  {
   "cell_type": "code",
   "execution_count": 3,
   "metadata": {},
   "outputs": [],
   "source": [
    "import glob\n",
    "import pandas as pd\n",
    "import os"
   ]
  },
  {
   "cell_type": "code",
   "execution_count": 11,
   "metadata": {},
   "outputs": [],
   "source": [
    "path = \"/home/jovyan/ai-core/speech_to_text/data/ghtk/voice_daily/\"\n",
    "list_csv = glob.glob(os.path.join(path,\"**/final_label.csv\"), recursive=True)"
   ]
  },
  {
   "cell_type": "code",
   "execution_count": 18,
   "metadata": {},
   "outputs": [],
   "source": [
    "df_all = []\n",
    "for file in list_csv:\n",
    "    df = pd.read_csv(file, delimiter=\";\")\n",
    "    df_all.append(df)\n"
   ]
  },
  {
   "cell_type": "code",
   "execution_count": 21,
   "metadata": {},
   "outputs": [],
   "source": [
    "df_train = pd.concat(df_all, axis = 0, ignore_index=True)"
   ]
  },
  {
   "cell_type": "code",
   "execution_count": 23,
   "metadata": {},
   "outputs": [],
   "source": [
    "df_train.drop(columns=[\"start\", \"end\"], inplace=True)"
   ]
  },
  {
   "cell_type": "code",
   "execution_count": 26,
   "metadata": {},
   "outputs": [],
   "source": [
    "df_train.rename(columns={\"folder\":\"audio\", \"text\": \"labeled_text\"}, inplace=True)"
   ]
  },
  {
   "cell_type": "code",
   "execution_count": 31,
   "metadata": {},
   "outputs": [],
   "source": [
    "df_train.dropna(inplace=True)"
   ]
  },
  {
   "cell_type": "code",
   "execution_count": 33,
   "metadata": {},
   "outputs": [],
   "source": [
    "df_train.to_csv(\"final_label_train_2024.csv\", index=False)"
   ]
  },
  {
   "cell_type": "code",
   "execution_count": 34,
   "metadata": {},
   "outputs": [
    {
     "data": {
      "text/html": [
       "<div>\n",
       "<style scoped>\n",
       "    .dataframe tbody tr th:only-of-type {\n",
       "        vertical-align: middle;\n",
       "    }\n",
       "\n",
       "    .dataframe tbody tr th {\n",
       "        vertical-align: top;\n",
       "    }\n",
       "\n",
       "    .dataframe thead th {\n",
       "        text-align: right;\n",
       "    }\n",
       "</style>\n",
       "<table border=\"1\" class=\"dataframe\">\n",
       "  <thead>\n",
       "    <tr style=\"text-align: right;\">\n",
       "      <th></th>\n",
       "      <th>audio</th>\n",
       "      <th>labeled_text</th>\n",
       "    </tr>\n",
       "  </thead>\n",
       "  <tbody>\n",
       "    <tr>\n",
       "      <th>0</th>\n",
       "      <td>/home/jovyan/ai-core/speech_to_text/data/ghtk/...</td>\n",
       "      <td>alo</td>\n",
       "    </tr>\n",
       "    <tr>\n",
       "      <th>1</th>\n",
       "      <td>/home/jovyan/ai-core/speech_to_text/data/ghtk/...</td>\n",
       "      <td>mình đang đi làm</td>\n",
       "    </tr>\n",
       "    <tr>\n",
       "      <th>2</th>\n",
       "      <td>/home/jovyan/ai-core/speech_to_text/data/ghtk/...</td>\n",
       "      <td>không ấy</td>\n",
       "    </tr>\n",
       "    <tr>\n",
       "      <th>3</th>\n",
       "      <td>/home/jovyan/ai-core/speech_to_text/data/ghtk/...</td>\n",
       "      <td>mưa em có giao đâu đấy đấy</td>\n",
       "    </tr>\n",
       "    <tr>\n",
       "      <th>4</th>\n",
       "      <td>/home/jovyan/ai-core/speech_to_text/data/ghtk/...</td>\n",
       "      <td>nhưng mà thôi cứ giao đi</td>\n",
       "    </tr>\n",
       "    <tr>\n",
       "      <th>...</th>\n",
       "      <td>...</td>\n",
       "      <td>...</td>\n",
       "    </tr>\n",
       "    <tr>\n",
       "      <th>28306</th>\n",
       "      <td>/home/jovyan/ai-core/speech_to_text/data/ghtk/...</td>\n",
       "      <td>à à à</td>\n",
       "    </tr>\n",
       "    <tr>\n",
       "      <th>28307</th>\n",
       "      <td>/home/jovyan/ai-core/speech_to_text/data/ghtk/...</td>\n",
       "      <td>alo anh ơi em gọi bên giao hàng ý ạ mình có đơ...</td>\n",
       "    </tr>\n",
       "    <tr>\n",
       "      <th>28308</th>\n",
       "      <td>/home/jovyan/ai-core/speech_to_text/data/ghtk/...</td>\n",
       "      <td>thế thì chiều nay có nhận được hàng không để e...</td>\n",
       "    </tr>\n",
       "    <tr>\n",
       "      <th>28309</th>\n",
       "      <td>/home/jovyan/ai-core/speech_to_text/data/ghtk/...</td>\n",
       "      <td>à vâng để em báo lại ship giao lại cho mình tr...</td>\n",
       "    </tr>\n",
       "    <tr>\n",
       "      <th>28310</th>\n",
       "      <td>/home/jovyan/ai-core/speech_to_text/data/ghtk/...</td>\n",
       "      <td>vâng em cảm ơn dạ em chào anh ạ</td>\n",
       "    </tr>\n",
       "  </tbody>\n",
       "</table>\n",
       "<p>27793 rows × 2 columns</p>\n",
       "</div>"
      ],
      "text/plain": [
       "                                                   audio  \\\n",
       "0      /home/jovyan/ai-core/speech_to_text/data/ghtk/...   \n",
       "1      /home/jovyan/ai-core/speech_to_text/data/ghtk/...   \n",
       "2      /home/jovyan/ai-core/speech_to_text/data/ghtk/...   \n",
       "3      /home/jovyan/ai-core/speech_to_text/data/ghtk/...   \n",
       "4      /home/jovyan/ai-core/speech_to_text/data/ghtk/...   \n",
       "...                                                  ...   \n",
       "28306  /home/jovyan/ai-core/speech_to_text/data/ghtk/...   \n",
       "28307  /home/jovyan/ai-core/speech_to_text/data/ghtk/...   \n",
       "28308  /home/jovyan/ai-core/speech_to_text/data/ghtk/...   \n",
       "28309  /home/jovyan/ai-core/speech_to_text/data/ghtk/...   \n",
       "28310  /home/jovyan/ai-core/speech_to_text/data/ghtk/...   \n",
       "\n",
       "                                            labeled_text  \n",
       "0                                                    alo  \n",
       "1                                       mình đang đi làm  \n",
       "2                                               không ấy  \n",
       "3                             mưa em có giao đâu đấy đấy  \n",
       "4                               nhưng mà thôi cứ giao đi  \n",
       "...                                                  ...  \n",
       "28306                                              à à à  \n",
       "28307  alo anh ơi em gọi bên giao hàng ý ạ mình có đơ...  \n",
       "28308  thế thì chiều nay có nhận được hàng không để e...  \n",
       "28309  à vâng để em báo lại ship giao lại cho mình tr...  \n",
       "28310                    vâng em cảm ơn dạ em chào anh ạ  \n",
       "\n",
       "[27793 rows x 2 columns]"
      ]
     },
     "execution_count": 34,
     "metadata": {},
     "output_type": "execute_result"
    }
   ],
   "source": [
    "df_train"
   ]
  },
  {
   "cell_type": "code",
   "execution_count": 42,
   "metadata": {},
   "outputs": [],
   "source": [
    "df_train[\"exist\"] = df_train.apply(lambda x:os.path.exists(x[\"audio\"]), axis = 1)"
   ]
  },
  {
   "cell_type": "code",
   "execution_count": 47,
   "metadata": {},
   "outputs": [],
   "source": [
    "df_train = df_train[df_train[\"exist\"]]"
   ]
  },
  {
   "cell_type": "code",
   "execution_count": 48,
   "metadata": {},
   "outputs": [
    {
     "name": "stderr",
     "output_type": "stream",
     "text": [
      "/home/jovyan/ai-core/miniconda3/envs/contentvec/lib/python3.7/site-packages/pandas/core/frame.py:4913: SettingWithCopyWarning: \n",
      "A value is trying to be set on a copy of a slice from a DataFrame\n",
      "\n",
      "See the caveats in the documentation: https://pandas.pydata.org/pandas-docs/stable/user_guide/indexing.html#returning-a-view-versus-a-copy\n",
      "  errors=errors,\n"
     ]
    }
   ],
   "source": [
    "df_train.drop(columns=[\"exist\"], inplace=True)"
   ]
  },
  {
   "cell_type": "code",
   "execution_count": 49,
   "metadata": {},
   "outputs": [
    {
     "data": {
      "text/html": [
       "<div>\n",
       "<style scoped>\n",
       "    .dataframe tbody tr th:only-of-type {\n",
       "        vertical-align: middle;\n",
       "    }\n",
       "\n",
       "    .dataframe tbody tr th {\n",
       "        vertical-align: top;\n",
       "    }\n",
       "\n",
       "    .dataframe thead th {\n",
       "        text-align: right;\n",
       "    }\n",
       "</style>\n",
       "<table border=\"1\" class=\"dataframe\">\n",
       "  <thead>\n",
       "    <tr style=\"text-align: right;\">\n",
       "      <th></th>\n",
       "      <th>audio</th>\n",
       "      <th>labeled_text</th>\n",
       "    </tr>\n",
       "  </thead>\n",
       "  <tbody>\n",
       "    <tr>\n",
       "      <th>0</th>\n",
       "      <td>/home/jovyan/ai-core/speech_to_text/data/ghtk/...</td>\n",
       "      <td>alo</td>\n",
       "    </tr>\n",
       "    <tr>\n",
       "      <th>1</th>\n",
       "      <td>/home/jovyan/ai-core/speech_to_text/data/ghtk/...</td>\n",
       "      <td>mình đang đi làm</td>\n",
       "    </tr>\n",
       "    <tr>\n",
       "      <th>2</th>\n",
       "      <td>/home/jovyan/ai-core/speech_to_text/data/ghtk/...</td>\n",
       "      <td>không ấy</td>\n",
       "    </tr>\n",
       "    <tr>\n",
       "      <th>3</th>\n",
       "      <td>/home/jovyan/ai-core/speech_to_text/data/ghtk/...</td>\n",
       "      <td>mưa em có giao đâu đấy đấy</td>\n",
       "    </tr>\n",
       "    <tr>\n",
       "      <th>4</th>\n",
       "      <td>/home/jovyan/ai-core/speech_to_text/data/ghtk/...</td>\n",
       "      <td>nhưng mà thôi cứ giao đi</td>\n",
       "    </tr>\n",
       "    <tr>\n",
       "      <th>...</th>\n",
       "      <td>...</td>\n",
       "      <td>...</td>\n",
       "    </tr>\n",
       "    <tr>\n",
       "      <th>27687</th>\n",
       "      <td>/home/jovyan/ai-core/speech_to_text/data/ghtk/...</td>\n",
       "      <td>thế khi nào thì mình nhận được cái đơn hàng này à</td>\n",
       "    </tr>\n",
       "    <tr>\n",
       "      <th>27688</th>\n",
       "      <td>/home/jovyan/ai-core/speech_to_text/data/ghtk/...</td>\n",
       "      <td>khi nào thì mình nhận được cái đơn hàng này à</td>\n",
       "    </tr>\n",
       "    <tr>\n",
       "      <th>27689</th>\n",
       "      <td>/home/jovyan/ai-core/speech_to_text/data/ghtk/...</td>\n",
       "      <td>trong sáng mai là được đúng không à</td>\n",
       "    </tr>\n",
       "    <tr>\n",
       "      <th>27690</th>\n",
       "      <td>/home/jovyan/ai-core/speech_to_text/data/ghtk/...</td>\n",
       "      <td>vâng vâng thế để em báo giao lại sáng ngày mai...</td>\n",
       "    </tr>\n",
       "    <tr>\n",
       "      <th>27691</th>\n",
       "      <td>/home/jovyan/ai-core/speech_to_text/data/ghtk/...</td>\n",
       "      <td>vâng vâng</td>\n",
       "    </tr>\n",
       "  </tbody>\n",
       "</table>\n",
       "<p>26937 rows × 2 columns</p>\n",
       "</div>"
      ],
      "text/plain": [
       "                                                   audio  \\\n",
       "0      /home/jovyan/ai-core/speech_to_text/data/ghtk/...   \n",
       "1      /home/jovyan/ai-core/speech_to_text/data/ghtk/...   \n",
       "2      /home/jovyan/ai-core/speech_to_text/data/ghtk/...   \n",
       "3      /home/jovyan/ai-core/speech_to_text/data/ghtk/...   \n",
       "4      /home/jovyan/ai-core/speech_to_text/data/ghtk/...   \n",
       "...                                                  ...   \n",
       "27687  /home/jovyan/ai-core/speech_to_text/data/ghtk/...   \n",
       "27688  /home/jovyan/ai-core/speech_to_text/data/ghtk/...   \n",
       "27689  /home/jovyan/ai-core/speech_to_text/data/ghtk/...   \n",
       "27690  /home/jovyan/ai-core/speech_to_text/data/ghtk/...   \n",
       "27691  /home/jovyan/ai-core/speech_to_text/data/ghtk/...   \n",
       "\n",
       "                                            labeled_text  \n",
       "0                                                    alo  \n",
       "1                                       mình đang đi làm  \n",
       "2                                               không ấy  \n",
       "3                             mưa em có giao đâu đấy đấy  \n",
       "4                               nhưng mà thôi cứ giao đi  \n",
       "...                                                  ...  \n",
       "27687  thế khi nào thì mình nhận được cái đơn hàng này à  \n",
       "27688      khi nào thì mình nhận được cái đơn hàng này à  \n",
       "27689                trong sáng mai là được đúng không à  \n",
       "27690  vâng vâng thế để em báo giao lại sáng ngày mai...  \n",
       "27691                                          vâng vâng  \n",
       "\n",
       "[26937 rows x 2 columns]"
      ]
     },
     "execution_count": 49,
     "metadata": {},
     "output_type": "execute_result"
    }
   ],
   "source": [
    "df_train"
   ]
  },
  {
   "cell_type": "code",
   "execution_count": null,
   "metadata": {},
   "outputs": [],
   "source": []
  }
 ],
 "metadata": {
  "kernelspec": {
   "display_name": "Python 3",
   "language": "python",
   "name": "python3"
  },
  "language_info": {
   "codemirror_mode": {
    "name": "ipython",
    "version": 3
   },
   "file_extension": ".py",
   "mimetype": "text/x-python",
   "name": "python",
   "nbconvert_exporter": "python",
   "pygments_lexer": "ipython3",
   "version": "3.7.12"
  },
  "orig_nbformat": 4
 },
 "nbformat": 4,
 "nbformat_minor": 2
}
