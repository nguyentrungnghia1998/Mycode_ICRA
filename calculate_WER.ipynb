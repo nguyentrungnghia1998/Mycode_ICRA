{
 "cells": [
  {
   "cell_type": "code",
   "execution_count": 3,
   "metadata": {},
   "outputs": [],
   "source": [
    "import pandas as pd\n",
    "\n",
    "# Đọc DataFrame ban đầu chứa cột \"audio\" và \"text\"\n",
    "\n",
    "df_original = pd.read_excel(\"final_label.xlsx\")\n",
    "\n",
    "# Đọc file dự đoán\n",
    "predictions = {}\n",
    "with open(\"transcript_sample.txt\", \"r\", encoding=\"utf-8\") as f:\n",
    "    for line in f:\n",
    "        parts = line.strip().split(\" \", 1)  # Tách audio_path và câu dự đoán\n",
    "        if len(parts) == 2:\n",
    "            audio_path, prediction = parts\n",
    "        else:\n",
    "            audio_path, prediction = parts[0], \"\"  # Nếu không có câu dự đoán\n",
    "        predictions[audio_path] = prediction\n",
    "\n",
    "# Tạo DataFrame mới\n",
    "df_original['predict'] = df_original['audio'].map(predictions)  # Thêm cột 'predict' từ file dự đoán"
   ]
  },
  {
   "cell_type": "code",
   "execution_count": 4,
   "metadata": {},
   "outputs": [],
   "source": [
    "from jiwer import wer"
   ]
  },
  {
   "cell_type": "code",
   "execution_count": 8,
   "metadata": {},
   "outputs": [],
   "source": [
    "def calculate_wer(row):\n",
    "    return wer(row['labeled_text'], row['predict'])\n",
    "\n",
    "# Thêm cột WER vào DataFrame\n",
    "df_original['WER'] = df_original.apply(calculate_wer, axis=1)"
   ]
  },
  {
   "cell_type": "code",
   "execution_count": 9,
   "metadata": {},
   "outputs": [
    {
     "data": {
      "text/html": [
       "<div>\n",
       "<style scoped>\n",
       "    .dataframe tbody tr th:only-of-type {\n",
       "        vertical-align: middle;\n",
       "    }\n",
       "\n",
       "    .dataframe tbody tr th {\n",
       "        vertical-align: top;\n",
       "    }\n",
       "\n",
       "    .dataframe thead th {\n",
       "        text-align: right;\n",
       "    }\n",
       "</style>\n",
       "<table border=\"1\" class=\"dataframe\">\n",
       "  <thead>\n",
       "    <tr style=\"text-align: right;\">\n",
       "      <th></th>\n",
       "      <th>audio</th>\n",
       "      <th>labeled_text</th>\n",
       "      <th>predict</th>\n",
       "      <th>WER</th>\n",
       "    </tr>\n",
       "  </thead>\n",
       "  <tbody>\n",
       "    <tr>\n",
       "      <th>0</th>\n",
       "      <td>/home/jovyan/ai-core/speech_to_text/data/ghtk/...</td>\n",
       "      <td>alo</td>\n",
       "      <td>ơ</td>\n",
       "      <td>1.000000</td>\n",
       "    </tr>\n",
       "    <tr>\n",
       "      <th>1</th>\n",
       "      <td>/home/jovyan/ai-core/speech_to_text/data/ghtk/...</td>\n",
       "      <td>vào giờ đến nhà bảy hai nhá</td>\n",
       "      <td>vào đến nhà bảy hai nha</td>\n",
       "      <td>0.285714</td>\n",
       "    </tr>\n",
       "    <tr>\n",
       "      <th>2</th>\n",
       "      <td>/home/jovyan/ai-core/speech_to_text/data/ghtk/...</td>\n",
       "      <td>số nhà bảy hai</td>\n",
       "      <td>số nhà bảy hai</td>\n",
       "      <td>0.000000</td>\n",
       "    </tr>\n",
       "    <tr>\n",
       "      <th>3</th>\n",
       "      <td>/home/jovyan/ai-core/speech_to_text/data/ghtk/...</td>\n",
       "      <td>ừ ừ</td>\n",
       "      <td>ừ ừ</td>\n",
       "      <td>0.000000</td>\n",
       "    </tr>\n",
       "    <tr>\n",
       "      <th>4</th>\n",
       "      <td>/home/jovyan/ai-core/speech_to_text/data/ghtk/...</td>\n",
       "      <td>ừ</td>\n",
       "      <td>ừ</td>\n",
       "      <td>0.000000</td>\n",
       "    </tr>\n",
       "    <tr>\n",
       "      <th>...</th>\n",
       "      <td>...</td>\n",
       "      <td>...</td>\n",
       "      <td>...</td>\n",
       "      <td>...</td>\n",
       "    </tr>\n",
       "    <tr>\n",
       "      <th>3859</th>\n",
       "      <td>/home/jovyan/ai-core/speech_to_text/data/ghtk/...</td>\n",
       "      <td>thanh thấy tên là thanh bình ý ở trung hòa</td>\n",
       "      <td>thanh thấy tên là thanh bình ở trung hòa ý</td>\n",
       "      <td>0.200000</td>\n",
       "    </tr>\n",
       "    <tr>\n",
       "      <th>3860</th>\n",
       "      <td>/home/jovyan/ai-core/speech_to_text/data/ghtk/...</td>\n",
       "      <td>có cái đơn hàng chưa chưa mai của nhà không</td>\n",
       "      <td>có cái đơn hàng chưa chưa mai có nhà không</td>\n",
       "      <td>0.100000</td>\n",
       "    </tr>\n",
       "    <tr>\n",
       "      <th>3861</th>\n",
       "      <td>/home/jovyan/ai-core/speech_to_text/data/ghtk/...</td>\n",
       "      <td>trưa trưa mai nha</td>\n",
       "      <td>thế trưa mai nhá</td>\n",
       "      <td>0.500000</td>\n",
       "    </tr>\n",
       "    <tr>\n",
       "      <th>3862</th>\n",
       "      <td>/home/jovyan/ai-core/speech_to_text/data/ghtk/...</td>\n",
       "      <td>nhưng mình ở đoạn nào nhỉ</td>\n",
       "      <td>nhưng mình đoạn nào nhở</td>\n",
       "      <td>0.333333</td>\n",
       "    </tr>\n",
       "    <tr>\n",
       "      <th>3863</th>\n",
       "      <td>/home/jovyan/ai-core/speech_to_text/data/ghtk/...</td>\n",
       "      <td>à rồi ô kê ô kê</td>\n",
       "      <td>à rồi ô kê ô kê</td>\n",
       "      <td>0.000000</td>\n",
       "    </tr>\n",
       "  </tbody>\n",
       "</table>\n",
       "<p>3864 rows × 4 columns</p>\n",
       "</div>"
      ],
      "text/plain": [
       "                                                  audio  \\\n",
       "0     /home/jovyan/ai-core/speech_to_text/data/ghtk/...   \n",
       "1     /home/jovyan/ai-core/speech_to_text/data/ghtk/...   \n",
       "2     /home/jovyan/ai-core/speech_to_text/data/ghtk/...   \n",
       "3     /home/jovyan/ai-core/speech_to_text/data/ghtk/...   \n",
       "4     /home/jovyan/ai-core/speech_to_text/data/ghtk/...   \n",
       "...                                                 ...   \n",
       "3859  /home/jovyan/ai-core/speech_to_text/data/ghtk/...   \n",
       "3860  /home/jovyan/ai-core/speech_to_text/data/ghtk/...   \n",
       "3861  /home/jovyan/ai-core/speech_to_text/data/ghtk/...   \n",
       "3862  /home/jovyan/ai-core/speech_to_text/data/ghtk/...   \n",
       "3863  /home/jovyan/ai-core/speech_to_text/data/ghtk/...   \n",
       "\n",
       "                                     labeled_text  \\\n",
       "0                                             alo   \n",
       "1                     vào giờ đến nhà bảy hai nhá   \n",
       "2                                  số nhà bảy hai   \n",
       "3                                            ừ ừ    \n",
       "4                                              ừ    \n",
       "...                                           ...   \n",
       "3859   thanh thấy tên là thanh bình ý ở trung hòa   \n",
       "3860  có cái đơn hàng chưa chưa mai của nhà không   \n",
       "3861                            trưa trưa mai nha   \n",
       "3862                    nhưng mình ở đoạn nào nhỉ   \n",
       "3863                              à rồi ô kê ô kê   \n",
       "\n",
       "                                         predict       WER  \n",
       "0                                              ơ  1.000000  \n",
       "1                        vào đến nhà bảy hai nha  0.285714  \n",
       "2                                 số nhà bảy hai  0.000000  \n",
       "3                                            ừ ừ  0.000000  \n",
       "4                                              ừ  0.000000  \n",
       "...                                          ...       ...  \n",
       "3859  thanh thấy tên là thanh bình ở trung hòa ý  0.200000  \n",
       "3860  có cái đơn hàng chưa chưa mai có nhà không  0.100000  \n",
       "3861                            thế trưa mai nhá  0.500000  \n",
       "3862                     nhưng mình đoạn nào nhở  0.333333  \n",
       "3863                             à rồi ô kê ô kê  0.000000  \n",
       "\n",
       "[3864 rows x 4 columns]"
      ]
     },
     "execution_count": 9,
     "metadata": {},
     "output_type": "execute_result"
    }
   ],
   "source": [
    "df_original"
   ]
  },
  {
   "cell_type": "code",
   "execution_count": 10,
   "metadata": {},
   "outputs": [
    {
     "data": {
      "text/plain": [
       "0.5953712922071537"
      ]
     },
     "execution_count": 10,
     "metadata": {},
     "output_type": "execute_result"
    }
   ],
   "source": [
    "df_original[\"WER\"].m"
   ]
  },
  {
   "cell_type": "code",
   "execution_count": null,
   "metadata": {},
   "outputs": [],
   "source": []
  }
 ],
 "metadata": {
  "kernelspec": {
   "display_name": "Python 3",
   "language": "python",
   "name": "python3"
  },
  "language_info": {
   "codemirror_mode": {
    "name": "ipython",
    "version": 3
   },
   "file_extension": ".py",
   "mimetype": "text/x-python",
   "name": "python",
   "nbconvert_exporter": "python",
   "pygments_lexer": "ipython3",
   "version": "3.7.12"
  },
  "orig_nbformat": 4
 },
 "nbformat": 4,
 "nbformat_minor": 2
}
