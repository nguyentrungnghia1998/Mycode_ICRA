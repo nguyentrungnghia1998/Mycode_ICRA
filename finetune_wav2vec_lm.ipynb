{
 "cells": [
  {
   "cell_type": "code",
   "execution_count": 1,
   "metadata": {},
   "outputs": [],
   "source": [
    "import pandas as pd"
   ]
  },
  {
   "cell_type": "code",
   "execution_count": 2,
   "metadata": {},
   "outputs": [],
   "source": [
    "df_train = pd.read_csv(\"final_label_train_fix.csv\")\n",
    "df_test = pd.read_csv(\"final_label_test.csv\")"
   ]
  },
  {
   "cell_type": "code",
   "execution_count": 3,
   "metadata": {},
   "outputs": [],
   "source": [
    "# len(df_T6), len(df_T9), len(df_training), len(df_day_10_05), len(df_day_10_19), len(df_day_12_02), len(df_day_12_09), len(df_day_12_10), len(df_day_12_12)"
   ]
  },
  {
   "cell_type": "code",
   "execution_count": 4,
   "metadata": {},
   "outputs": [],
   "source": [
    "# all_sentences = list(set(df_full['text'].tolist()))\n",
    "# len(all_sentences)"
   ]
  },
  {
   "cell_type": "code",
   "execution_count": 5,
   "metadata": {},
   "outputs": [],
   "source": [
    "# import re\n",
    "# from tqdm import tqdm\n",
    "# chars_to_ignore_regex = '[\\,\\?\\.\\!\\-\\;\\:\\\"\\“\\%\\‘\\”\\�\\']'\n",
    "\n",
    "# with open('text.txt', 'w') as f:\n",
    "#     for sentence in tqdm(all_sentences):\n",
    "#         f.write(sentence)\n",
    "#         f.write('\\n')"
   ]
  },
  {
   "cell_type": "code",
   "execution_count": 6,
   "metadata": {},
   "outputs": [
    {
     "name": "stderr",
     "output_type": "stream",
     "text": [
      "/home/jovyan/ai-core/miniconda3/envs/contentvec/lib/python3.7/site-packages/tqdm/auto.py:21: TqdmWarning: IProgress not found. Please update jupyter and ipywidgets. See https://ipywidgets.readthedocs.io/en/stable/user_install.html\n",
      "  from .autonotebook import tqdm as notebook_tqdm\n"
     ]
    },
    {
     "name": "stderr",
     "output_type": "stream",
     "text": [
      "Special tokens have been added in the vocabulary, make sure the associated word embeddings are fine-tuned or trained.\n"
     ]
    },
    {
     "name": "stdout",
     "output_type": "stream",
     "text": [
      "{'ẻ': 0, '6': 1, 'ụ': 2, 'í': 3, '3': 4, 'ỹ': 5, 'ý': 6, 'ẩ': 7, 'ở': 8, 'ề': 9, 'õ': 10, '7': 11, 'ê': 12, 'ứ': 13, 'ỏ': 14, 'v': 15, 'ỷ': 16, 'a': 17, 'l': 18, 'ự': 19, 'q': 20, 'ờ': 21, 'j': 22, 'ố': 23, 'à': 24, 'ỗ': 25, 'n': 26, 'é': 27, 'ủ': 28, 'у': 29, 'ô': 30, 'u': 31, 'y': 32, 'ằ': 33, '4': 34, 'w': 35, 'b': 36, 'ệ': 37, 'ễ': 38, 's': 39, 'ì': 40, 'ầ': 41, 'ỵ': 42, '8': 43, 'd': 44, 'ể': 45, '|': 46, 'r': 47, 'ũ': 48, 'c': 49, 'ạ': 50, '9': 51, 'ế': 52, 'ù': 53, 'ỡ': 54, '2': 55, 't': 56, 'i': 57, 'g': 58, '́': 59, 'ử': 60, '̀': 61, 'á': 62, '0': 63, 'ậ': 64, 'e': 65, 'ộ': 66, 'm': 67, 'ẳ': 68, 'ợ': 69, 'ĩ': 70, 'h': 71, 'â': 72, 'ú': 73, 'ọ': 74, 'ồ': 75, 'ặ': 76, 'f': 77, 'ữ': 78, 'ắ': 79, 'ỳ': 80, 'x': 81, 'ó': 82, 'ã': 83, 'ổ': 84, 'ị': 85, '̣': 86, 'z': 87, 'ả': 88, 'đ': 89, 'è': 90, 'ừ': 91, 'ò': 92, 'ẵ': 93, '1': 94, 'ơ': 95, 'k': 96, 'ẫ': 97, 'p': 98, 'ấ': 99, 'ẽ': 100, 'ỉ': 101, 'ớ': 102, 'ẹ': 103, 'ă': 104, 'o': 105, 'ư': 106, '5': 107, '<unk>': 108, '<pad>': 109, '<s>': 110, '</s>': 111}\n"
     ]
    }
   ],
   "source": [
    "from transformers import Wav2Vec2Processor, Wav2Vec2ProcessorWithLM\n",
    "\n",
    "# Load processor\n",
    "processor = Wav2Vec2Processor.from_pretrained(\"custom_model\")\n",
    "\n",
    "# Get the vocabulary dictionary\n",
    "vocab_dict = processor.tokenizer.get_vocab()\n",
    "\n",
    "# Remove <s> and </s> tokens if they exist\n",
    "# vocab_dict = {k: v for k, v in vocab_dict.items() if k not in tokens_to_remove}\n",
    "\n",
    "# Sort the vocabulary dictionary by the values (IDs)\n",
    "sorted_vocab_dict = {k.lower(): v for k, v in sorted(vocab_dict.items(), key=lambda item: item[1])}\n",
    "\n",
    "# Output the sorted vocabulary dictionary\n",
    "print(sorted_vocab_dict)"
   ]
  },
  {
   "cell_type": "code",
   "execution_count": 7,
   "metadata": {},
   "outputs": [],
   "source": [
    "# from transformers import Wav2Vec2CTCTokenizer\n",
    "\n",
    "# # Save the modified vocabulary to a temporary file\n",
    "# vocab_file = \"updated_vocab.json\"\n",
    "# with open(vocab_file, \"w\") as f:\n",
    "#     import json\n",
    "#     json.dump(vocab_dict, f)\n",
    "\n",
    "# # Reload tokenizer with updated vocab\n",
    "# tokenizer = Wav2Vec2CTCTokenizer(vocab_file)\n",
    "\n",
    "# # Replace the tokenizer in the processor\n",
    "# processor.tokenizer = tokenizer"
   ]
  },
  {
   "cell_type": "code",
   "execution_count": 8,
   "metadata": {},
   "outputs": [
    {
     "name": "stderr",
     "output_type": "stream",
     "text": [
      "Loading the LM will be faster if you build a binary file.\n",
      "Reading /home/jovyan/ai-core/speech_to_text/nghia_semi_supervised/icra/5gram_correct.arpa\n",
      "----5---10---15---20---25---30---35---40---45---50---55---60---65---70---75---80---85---90---95--100\n",
      "****************************************************************************************************\n",
      "Found entries of length > 1 in alphabet. This is unusual unless style is BPE, but the alphabet was not recognized as BPE type. Is this correct?\n",
      "Unigrams and labels don't seem to agree.\n"
     ]
    }
   ],
   "source": [
    "from pyctcdecode import build_ctcdecoder\n",
    "\n",
    "decoder = build_ctcdecoder(\n",
    "    labels=list(sorted_vocab_dict.keys()),\n",
    "    kenlm_model_path=\"5gram_correct.arpa\",\n",
    "    alpha=1\n",
    ")"
   ]
  },
  {
   "cell_type": "code",
   "execution_count": 9,
   "metadata": {},
   "outputs": [
    {
     "name": "stdout",
     "output_type": "stream",
     "text": [
      "-16.322723388671875\n"
     ]
    },
    {
     "name": "stderr",
     "output_type": "stream",
     "text": [
      "Loading the LM will be faster if you build a binary file.\n",
      "Reading /home/jovyan/ai-core/speech_to_text/nghia_semi_supervised/icra/5gram_correct.arpa\n",
      "----5---10---15---20---25---30---35---40---45---50---55---60---65---70---75---80---85---90---95--100\n",
      "****************************************************************************************************\n"
     ]
    }
   ],
   "source": [
    "import kenlm\n",
    "model = kenlm.Model('5gram_correct.arpa')\n",
    "print(model.score('chị ơi em đang có đơn hàng gửi từ giao hàng tiết kiệm', bos = True, eos = True))"
   ]
  },
  {
   "cell_type": "code",
   "execution_count": 11,
   "metadata": {},
   "outputs": [],
   "source": [
    "processor_with_lm = Wav2Vec2ProcessorWithLM(\n",
    "    feature_extractor=processor.feature_extractor,\n",
    "    tokenizer=processor.tokenizer,\n",
    "    decoder=decoder\n",
    ")"
   ]
  },
  {
   "cell_type": "code",
   "execution_count": 12,
   "metadata": {},
   "outputs": [],
   "source": [
    "# processor_with_lm.save_pretrained(\"GHTK_wav2vec2\")"
   ]
  },
  {
   "cell_type": "code",
   "execution_count": 13,
   "metadata": {},
   "outputs": [
    {
     "name": "stderr",
     "output_type": "stream",
     "text": [
      "/home/jovyan/ai-core/miniconda3/envs/contentvec/lib/python3.7/site-packages/transformers/configuration_utils.py:381: UserWarning: Passing `gradient_checkpointing` to a config initialization is deprecated and will be removed in v5 Transformers. Using `model.gradient_checkpointing_enable()` instead, or if you are using the `Trainer` API, pass `gradient_checkpointing=True` in your `TrainingArguments`.\n",
      "  \"Passing `gradient_checkpointing` to a config initialization is deprecated and will be removed in v5 \"\n"
     ]
    }
   ],
   "source": [
    "class CFG:\n",
    "    my_model_name = 'custom_model'\n",
    "    processor_name = 'GHTK_wav2vec2'\n",
    "    processor_without_LM = 'custom_model'\n",
    "    \n",
    "from transformers import Wav2Vec2ProcessorWithLM,pipeline\n",
    "\n",
    "# processor = Wav2Vec2ProcessorWithLM.from_pretrained(CFG.processor_name)\n",
    "\n",
    "\n",
    "asr_w_LM = pipeline(\"automatic-speech-recognition\", model=CFG.my_model_name ,feature_extractor=processor_with_lm.feature_extractor, tokenizer=processor_with_lm.tokenizer,decoder=processor_with_lm.decoder)\n",
    "asr_wo_LM = pipeline(\"automatic-speech-recognition\", model = CFG.my_model_name, feature_extractor=processor.feature_extractor, tokenizer=processor.tokenizer)"
   ]
  },
  {
   "cell_type": "code",
   "execution_count": 14,
   "metadata": {},
   "outputs": [],
   "source": [
    "import librosa\n",
    "def infer(audio_path):\n",
    "    speech, sr = librosa.load(audio_path, sr=processor_with_lm.feature_extractor.sampling_rate)\n",
    "    my_LM_prediction = asr_w_LM(\n",
    "                speech\n",
    "            )\n",
    "\n",
    "    return my_LM_prediction[\"text\"]\n",
    "\n",
    "def infer_wo_LM(audio_path):\n",
    "    speech, sr = librosa.load(audio_path, sr=processor.feature_extractor.sampling_rate)\n",
    "    my_LM_prediction = asr_wo_LM(\n",
    "                speech\n",
    "            )\n",
    "\n",
    "    return my_LM_prediction['text']"
   ]
  },
  {
   "cell_type": "code",
   "execution_count": 15,
   "metadata": {},
   "outputs": [],
   "source": [
    "import pandas as pd\n",
    "\n",
    "def fix_label(path_audio, path_file_csv, df, new_label):\n",
    "    \"\"\"\n",
    "    Sửa nhãn (label) của file audio trong file CSV.\n",
    "\n",
    "    Args:\n",
    "        path_audio (str): Đường dẫn đến file audio cần sửa nhãn.\n",
    "        path_file_csv (str): Đường dẫn đến file CSV chứa dữ liệu.\n",
    "        new_label (str): Nhãn mới cần gán cho file audio.\n",
    "    \"\"\"\n",
    "\n",
    "    # Kiểm tra file audio có tồn tại trong CSV hay không\n",
    "    if path_audio not in df['audio'].values:\n",
    "        print(f\"File audio '{path_audio}' không tồn tại trong file CSV.\")\n",
    "        return\n",
    "\n",
    "    # Sửa nhãn cho file audio\n",
    "    df.loc[df['audio'] == path_audio, 'labeled_text'] = new_label\n",
    "    print(f\"Đã sửa nhãn của '{path_audio}' thành: '{new_label}'\")\n",
    "\n",
    "    # Ghi lại file CSV\n",
    "    df.to_csv(path_file_csv, index=False)\n",
    "    print(f\"Đã lưu file CSV với nhãn mới tại: {path_file_csv}\")"
   ]
  },
  {
   "cell_type": "code",
   "execution_count": 16,
   "metadata": {},
   "outputs": [],
   "source": [
    "from IPython.display import Audio\n",
    "from jiwer import wer"
   ]
  },
  {
   "cell_type": "code",
   "execution_count": 62,
   "metadata": {},
   "outputs": [
    {
     "name": "stdout",
     "output_type": "stream",
     "text": [
      "With LM:  al\n",
      "Without LM:  al\n",
      "Label:  thế nữa lại\n",
      "WER:  1.0\n"
     ]
    },
    {
     "data": {
      "text/html": [
       "\n",
       "                <audio  controls=\"controls\" >\n",
       "                    <source src=\"data:audio/x-wav;base64,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\" type=\"audio/x-wav\" />\n",
       "                    Your browser does not support the audio element.\n",
       "                </audio>\n",
       "              "
      ],
      "text/plain": [
       "<IPython.lib.display.Audio object>"
      ]
     },
     "execution_count": 62,
     "metadata": {},
     "output_type": "execute_result"
    }
   ],
   "source": [
    "sample = df_train.sample()\n",
    "path = sample[\"audio\"].values[0]\n",
    "result_LM = infer(path)\n",
    "result_wo_LM = infer_wo_LM(path)\n",
    "print(\"With LM: \", result_LM)\n",
    "print(\"Without LM: \", result_wo_LM)\n",
    "print(\"Label: \",sample[\"labeled_text\"].values[0])\n",
    "print(\"WER: \",wer(sample[\"labeled_text\"].values[0],result_LM))\n",
    "Audio(path)"
   ]
  },
  {
   "cell_type": "code",
   "execution_count": 270,
   "metadata": {},
   "outputs": [
    {
     "ename": "SyntaxError",
     "evalue": "invalid syntax (2606571536.py, line 1)",
     "output_type": "error",
     "traceback": [
      "\u001b[0;36m  File \u001b[0;32m\"/tmp/ipykernel_130736/2606571536.py\"\u001b[0;36m, line \u001b[0;32m1\u001b[0m\n\u001b[0;31m    có gì tí em sẽ báo lại anh nhá dạ vâng\u001b[0m\n\u001b[0m        ^\u001b[0m\n\u001b[0;31mSyntaxError\u001b[0m\u001b[0;31m:\u001b[0m invalid syntax\n"
     ]
    }
   ],
   "source": [
    "ừ em hai ca tư đang ở bên hoàng mai ấy ạ"
   ]
  },
  {
   "cell_type": "code",
   "execution_count": 317,
   "metadata": {},
   "outputs": [
    {
     "name": "stdout",
     "output_type": "stream",
     "text": [
      "Đã sửa nhãn của '/home/jovyan/ai-core/speech_to_text/data/ghtk_T6/voice_split/72369-842471016869-0965958182-20240604103513-1717472100.584099.wav-out_segment_0.wav' thành: 'dạ a lô'\n",
      "Đã lưu file CSV với nhãn mới tại: final_label_train_fix.csv\n"
     ]
    }
   ],
   "source": [
    "fix_sentence = input(\"Nhập câu đúng:\")\n",
    "fix_label(path, \"final_label_train_fix.csv\", df_train, fix_sentence)"
   ]
  },
  {
   "cell_type": "code",
   "execution_count": 318,
   "metadata": {},
   "outputs": [],
   "source": [
    "df_train = pd.read_csv(\"final_label_train_fix.csv\")"
   ]
  },
  {
   "cell_type": "code",
   "execution_count": 1,
   "metadata": {},
   "outputs": [
    {
     "ename": "NameError",
     "evalue": "name 'sample' is not defined",
     "output_type": "error",
     "traceback": [
      "\u001b[0;31m---------------------------------------------------------------------------\u001b[0m",
      "\u001b[0;31mNameError\u001b[0m                                 Traceback (most recent call last)",
      "\u001b[0;32m/tmp/ipykernel_176964/1398024333.py\u001b[0m in \u001b[0;36m<module>\u001b[0;34m\u001b[0m\n\u001b[0;32m----> 1\u001b[0;31m \u001b[0mid\u001b[0m \u001b[0;34m=\u001b[0m \u001b[0msample\u001b[0m\u001b[0;34m.\u001b[0m\u001b[0mindex\u001b[0m\u001b[0;34m.\u001b[0m\u001b[0mvalues\u001b[0m\u001b[0;34m[\u001b[0m\u001b[0;36m0\u001b[0m\u001b[0;34m]\u001b[0m\u001b[0;34m\u001b[0m\u001b[0;34m\u001b[0m\u001b[0m\n\u001b[0m\u001b[1;32m      2\u001b[0m \u001b[0mprint\u001b[0m\u001b[0;34m(\u001b[0m\u001b[0;34m\"With LM: \"\u001b[0m\u001b[0;34m,\u001b[0m \u001b[0mresult_LM\u001b[0m\u001b[0;34m)\u001b[0m\u001b[0;34m\u001b[0m\u001b[0;34m\u001b[0m\u001b[0m\n\u001b[1;32m      3\u001b[0m \u001b[0mprint\u001b[0m\u001b[0;34m(\u001b[0m\u001b[0;34m\"Without LM: \"\u001b[0m\u001b[0;34m,\u001b[0m \u001b[0mresult_wo_LM\u001b[0m\u001b[0;34m)\u001b[0m\u001b[0;34m\u001b[0m\u001b[0;34m\u001b[0m\u001b[0m\n\u001b[1;32m      4\u001b[0m \u001b[0mprint\u001b[0m\u001b[0;34m(\u001b[0m\u001b[0;34m\"Label: \"\u001b[0m\u001b[0;34m,\u001b[0m\u001b[0mdf_train\u001b[0m\u001b[0;34m.\u001b[0m\u001b[0mloc\u001b[0m\u001b[0;34m[\u001b[0m\u001b[0mid\u001b[0m\u001b[0;34m,\u001b[0m\u001b[0;34m\"labeled_text\"\u001b[0m\u001b[0;34m]\u001b[0m\u001b[0;34m)\u001b[0m\u001b[0;34m\u001b[0m\u001b[0;34m\u001b[0m\u001b[0m\n\u001b[1;32m      5\u001b[0m \u001b[0mprint\u001b[0m\u001b[0;34m(\u001b[0m\u001b[0;34m\"WER: \"\u001b[0m\u001b[0;34m,\u001b[0m \u001b[0mwer\u001b[0m\u001b[0;34m(\u001b[0m\u001b[0mdf_train\u001b[0m\u001b[0;34m.\u001b[0m\u001b[0mloc\u001b[0m\u001b[0;34m[\u001b[0m\u001b[0mid\u001b[0m\u001b[0;34m,\u001b[0m\u001b[0;34m\"labeled_text\"\u001b[0m\u001b[0;34m]\u001b[0m\u001b[0;34m,\u001b[0m\u001b[0mresult_LM\u001b[0m\u001b[0;34m)\u001b[0m\u001b[0;34m)\u001b[0m\u001b[0;34m\u001b[0m\u001b[0;34m\u001b[0m\u001b[0m\n",
      "\u001b[0;31mNameError\u001b[0m: name 'sample' is not defined"
     ]
    }
   ],
   "source": [
    "id = sample.index.values[0]\n",
    "print(\"With LM: \", result_LM)\n",
    "print(\"Without LM: \", result_wo_LM)\n",
    "print(\"Label: \",df_train.loc[id,\"labeled_text\"])\n",
    "print(\"WER: \", wer(df_train.loc[id,\"labeled_text\"],result_LM))"
   ]
  },
  {
   "cell_type": "code",
   "execution_count": 320,
   "metadata": {},
   "outputs": [
    {
     "data": {
      "text/plain": [
       "'/home/jovyan/ai-core/speech_to_text/data/ghtk_T6/voice_split/72369-842471016869-0965958182-20240604103513-1717472100.584099.wav-out_segment_0.wav'"
      ]
     },
     "execution_count": 320,
     "metadata": {},
     "output_type": "execute_result"
    }
   ],
   "source": [
    "path"
   ]
  },
  {
   "cell_type": "code",
   "execution_count": null,
   "metadata": {},
   "outputs": [],
   "source": []
  },
  {
   "cell_type": "code",
   "execution_count": 261,
   "metadata": {},
   "outputs": [],
   "source": [
    "df_train = df_train[df_train[\"audio\"]!=path]\n",
    "df_train.to_csv(\"final_label_train_fix.csv\",index=False)"
   ]
  },
  {
   "cell_type": "code",
   "execution_count": 262,
   "metadata": {},
   "outputs": [],
   "source": [
    "df_train = pd.read_csv(\"final_label_train_fix.csv\")"
   ]
  },
  {
   "cell_type": "code",
   "execution_count": 263,
   "metadata": {},
   "outputs": [
    {
     "data": {
      "text/html": [
       "<div>\n",
       "<style scoped>\n",
       "    .dataframe tbody tr th:only-of-type {\n",
       "        vertical-align: middle;\n",
       "    }\n",
       "\n",
       "    .dataframe tbody tr th {\n",
       "        vertical-align: top;\n",
       "    }\n",
       "\n",
       "    .dataframe thead th {\n",
       "        text-align: right;\n",
       "    }\n",
       "</style>\n",
       "<table border=\"1\" class=\"dataframe\">\n",
       "  <thead>\n",
       "    <tr style=\"text-align: right;\">\n",
       "      <th></th>\n",
       "      <th>audio</th>\n",
       "      <th>labeled_text</th>\n",
       "    </tr>\n",
       "  </thead>\n",
       "  <tbody>\n",
       "    <tr>\n",
       "      <th>0</th>\n",
       "      <td>/home/jovyan/ai-core/speech_to_text/data/ghtk_...</td>\n",
       "      <td>alo ạ</td>\n",
       "    </tr>\n",
       "    <tr>\n",
       "      <th>1</th>\n",
       "      <td>/home/jovyan/ai-core/speech_to_text/data/ghtk_...</td>\n",
       "      <td>ờ xử lý hai bao đúng không</td>\n",
       "    </tr>\n",
       "    <tr>\n",
       "      <th>2</th>\n",
       "      <td>/home/jovyan/ai-core/speech_to_text/data/ghtk_...</td>\n",
       "      <td>xử lý sớm đi trước mười hai giờ nha</td>\n",
       "    </tr>\n",
       "    <tr>\n",
       "      <th>3</th>\n",
       "      <td>/home/jovyan/ai-core/speech_to_text/data/ghtk_...</td>\n",
       "      <td>ừ cho chị hỏi có phải số điện thoại của hương ...</td>\n",
       "    </tr>\n",
       "    <tr>\n",
       "      <th>4</th>\n",
       "      <td>/home/jovyan/ai-core/speech_to_text/data/ghtk_...</td>\n",
       "      <td>ừ em có phải là vợ của bạn linh không nhở</td>\n",
       "    </tr>\n",
       "    <tr>\n",
       "      <th>...</th>\n",
       "      <td>...</td>\n",
       "      <td>...</td>\n",
       "    </tr>\n",
       "    <tr>\n",
       "      <th>17712</th>\n",
       "      <td>/home/jovyan/ai-core/speech_to_text/data/ghtk_...</td>\n",
       "      <td>à à à</td>\n",
       "    </tr>\n",
       "    <tr>\n",
       "      <th>17713</th>\n",
       "      <td>/home/jovyan/ai-core/speech_to_text/data/ghtk_...</td>\n",
       "      <td>alo anh ơi em gọi bên giao hàng ý ạ mình có đơ...</td>\n",
       "    </tr>\n",
       "    <tr>\n",
       "      <th>17714</th>\n",
       "      <td>/home/jovyan/ai-core/speech_to_text/data/ghtk_...</td>\n",
       "      <td>thế thì chiều nay có nhận được hàng không để e...</td>\n",
       "    </tr>\n",
       "    <tr>\n",
       "      <th>17715</th>\n",
       "      <td>/home/jovyan/ai-core/speech_to_text/data/ghtk_...</td>\n",
       "      <td>à vâng để em báo lại ship giao lại cho mình tr...</td>\n",
       "    </tr>\n",
       "    <tr>\n",
       "      <th>17716</th>\n",
       "      <td>/home/jovyan/ai-core/speech_to_text/data/ghtk_...</td>\n",
       "      <td>vâng em cảm ơn dạ em chào anh ạ</td>\n",
       "    </tr>\n",
       "  </tbody>\n",
       "</table>\n",
       "<p>17717 rows × 2 columns</p>\n",
       "</div>"
      ],
      "text/plain": [
       "                                                   audio  \\\n",
       "0      /home/jovyan/ai-core/speech_to_text/data/ghtk_...   \n",
       "1      /home/jovyan/ai-core/speech_to_text/data/ghtk_...   \n",
       "2      /home/jovyan/ai-core/speech_to_text/data/ghtk_...   \n",
       "3      /home/jovyan/ai-core/speech_to_text/data/ghtk_...   \n",
       "4      /home/jovyan/ai-core/speech_to_text/data/ghtk_...   \n",
       "...                                                  ...   \n",
       "17712  /home/jovyan/ai-core/speech_to_text/data/ghtk_...   \n",
       "17713  /home/jovyan/ai-core/speech_to_text/data/ghtk_...   \n",
       "17714  /home/jovyan/ai-core/speech_to_text/data/ghtk_...   \n",
       "17715  /home/jovyan/ai-core/speech_to_text/data/ghtk_...   \n",
       "17716  /home/jovyan/ai-core/speech_to_text/data/ghtk_...   \n",
       "\n",
       "                                            labeled_text  \n",
       "0                                                  alo ạ  \n",
       "1                             ờ xử lý hai bao đúng không  \n",
       "2                    xử lý sớm đi trước mười hai giờ nha  \n",
       "3      ừ cho chị hỏi có phải số điện thoại của hương ...  \n",
       "4              ừ em có phải là vợ của bạn linh không nhở  \n",
       "...                                                  ...  \n",
       "17712                                              à à à  \n",
       "17713  alo anh ơi em gọi bên giao hàng ý ạ mình có đơ...  \n",
       "17714  thế thì chiều nay có nhận được hàng không để e...  \n",
       "17715  à vâng để em báo lại ship giao lại cho mình tr...  \n",
       "17716                    vâng em cảm ơn dạ em chào anh ạ  \n",
       "\n",
       "[17717 rows x 2 columns]"
      ]
     },
     "execution_count": 263,
     "metadata": {},
     "output_type": "execute_result"
    }
   ],
   "source": [
    "df_train"
   ]
  },
  {
   "cell_type": "code",
   "execution_count": null,
   "metadata": {},
   "outputs": [],
   "source": []
  }
 ],
 "metadata": {
  "kernelspec": {
   "display_name": "Python 3",
   "language": "python",
   "name": "python3"
  },
  "language_info": {
   "codemirror_mode": {
    "name": "ipython",
    "version": 3
   },
   "file_extension": ".py",
   "mimetype": "text/x-python",
   "name": "python",
   "nbconvert_exporter": "python",
   "pygments_lexer": "ipython3",
   "version": "3.7.12"
  },
  "orig_nbformat": 4
 },
 "nbformat": 4,
 "nbformat_minor": 2
}
