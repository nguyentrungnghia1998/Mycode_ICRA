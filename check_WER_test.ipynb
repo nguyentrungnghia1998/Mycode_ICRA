{
 "cells": [
  {
   "cell_type": "code",
   "execution_count": 24,
   "metadata": {},
   "outputs": [],
   "source": [
    "import pandas as pd"
   ]
  },
  {
   "cell_type": "code",
   "execution_count": 25,
   "metadata": {},
   "outputs": [],
   "source": [
    "df_test = pd.read_csv(\"final_label_train_2024.csv\")"
   ]
  },
  {
   "cell_type": "code",
   "execution_count": 3,
   "metadata": {},
   "outputs": [],
   "source": [
    "df_test_sample = df_test.sample(50)"
   ]
  },
  {
   "cell_type": "code",
   "execution_count": 26,
   "metadata": {},
   "outputs": [
    {
     "name": "stderr",
     "output_type": "stream",
     "text": [
      "Special tokens have been added in the vocabulary, make sure the associated word embeddings are fine-tuned or trained.\n"
     ]
    },
    {
     "name": "stdout",
     "output_type": "stream",
     "text": [
      "{'ẻ': 0, '6': 1, 'ụ': 2, 'í': 3, '3': 4, 'ỹ': 5, 'ý': 6, 'ẩ': 7, 'ở': 8, 'ề': 9, 'õ': 10, '7': 11, 'ê': 12, 'ứ': 13, 'ỏ': 14, 'v': 15, 'ỷ': 16, 'a': 17, 'l': 18, 'ự': 19, 'q': 20, 'ờ': 21, 'j': 22, 'ố': 23, 'à': 24, 'ỗ': 25, 'n': 26, 'é': 27, 'ủ': 28, 'у': 29, 'ô': 30, 'u': 31, 'y': 32, 'ằ': 33, '4': 34, 'w': 35, 'b': 36, 'ệ': 37, 'ễ': 38, 's': 39, 'ì': 40, 'ầ': 41, 'ỵ': 42, '8': 43, 'd': 44, 'ể': 45, '|': 46, 'r': 47, 'ũ': 48, 'c': 49, 'ạ': 50, '9': 51, 'ế': 52, 'ù': 53, 'ỡ': 54, '2': 55, 't': 56, 'i': 57, 'g': 58, '́': 59, 'ử': 60, '̀': 61, 'á': 62, '0': 63, 'ậ': 64, 'e': 65, 'ộ': 66, 'm': 67, 'ẳ': 68, 'ợ': 69, 'ĩ': 70, 'h': 71, 'â': 72, 'ú': 73, 'ọ': 74, 'ồ': 75, 'ặ': 76, 'f': 77, 'ữ': 78, 'ắ': 79, 'ỳ': 80, 'x': 81, 'ó': 82, 'ã': 83, 'ổ': 84, 'ị': 85, '̣': 86, 'z': 87, 'ả': 88, 'đ': 89, 'è': 90, 'ừ': 91, 'ò': 92, 'ẵ': 93, '1': 94, 'ơ': 95, 'k': 96, 'ẫ': 97, 'p': 98, 'ấ': 99, 'ẽ': 100, 'ỉ': 101, 'ớ': 102, 'ẹ': 103, 'ă': 104, 'o': 105, 'ư': 106, '5': 107, '<unk>': 108, '<pad>': 109, '<s>': 110, '</s>': 111}\n"
     ]
    }
   ],
   "source": [
    "from transformers import Wav2Vec2Processor, Wav2Vec2ProcessorWithLM, Wav2Vec2ForCTC\n",
    "\n",
    "# Load processor\n",
    "processor = Wav2Vec2Processor.from_pretrained(\"custom_model\")\n",
    "\n",
    "# Get the vocabulary dictionary\n",
    "vocab_dict = processor.tokenizer.get_vocab()\n",
    "\n",
    "# Remove <s> and </s> tokens if they exist\n",
    "# vocab_dict = {k: v for k, v in vocab_dict.items() if k not in tokens_to_remove}\n",
    "\n",
    "# Sort the vocabulary dictionary by the values (IDs)\n",
    "sorted_vocab_dict = {k.lower(): v for k, v in sorted(vocab_dict.items(), key=lambda item: item[1])}\n",
    "\n",
    "# Output the sorted vocabulary dictionary\n",
    "print(sorted_vocab_dict)"
   ]
  },
  {
   "cell_type": "code",
   "execution_count": 27,
   "metadata": {},
   "outputs": [
    {
     "name": "stderr",
     "output_type": "stream",
     "text": [
      "Loading the LM will be faster if you build a binary file.\n",
      "Reading /home/jovyan/ai-core/speech_to_text/nghia_semi_supervised/icra/5gram_correct.arpa\n",
      "----5---10---15---20---25---30---35---40---45---50---55---60---65---70---75---80---85---90---95--100\n",
      "****************************************************************************************************\n",
      "Found entries of length > 1 in alphabet. This is unusual unless style is BPE, but the alphabet was not recognized as BPE type. Is this correct?\n",
      "Unigrams and labels don't seem to agree.\n"
     ]
    }
   ],
   "source": [
    "from pyctcdecode import build_ctcdecoder\n",
    "\n",
    "decoder = build_ctcdecoder(\n",
    "    labels=list(sorted_vocab_dict.keys()),\n",
    "    kenlm_model_path=\"5gram_correct.arpa\",\n",
    "    alpha=1\n",
    ")"
   ]
  },
  {
   "cell_type": "code",
   "execution_count": 28,
   "metadata": {},
   "outputs": [],
   "source": [
    "processor_with_lm = Wav2Vec2ProcessorWithLM(\n",
    "    feature_extractor=processor.feature_extractor,\n",
    "    tokenizer=processor.tokenizer,\n",
    "    decoder=decoder\n",
    ")"
   ]
  },
  {
   "cell_type": "code",
   "execution_count": 29,
   "metadata": {},
   "outputs": [],
   "source": [
    "class Inferencer:\n",
    "    def __init__(self, device, huggingface_folder, w2v_model_path, kenlm_model_path, alpha = 1.0):\n",
    "        self.device = device\n",
    "        self.processor = Wav2Vec2Processor.from_pretrained(huggingface_folder)\n",
    "        vocab_dict = self.processor.tokenizer.get_vocab()\n",
    "        sorted_vocab_dict = {k.lower(): v for k, v in sorted(vocab_dict.items(), key=lambda item: item[1])}\n",
    "        self.decoder = build_ctcdecoder(\n",
    "            labels=list(sorted_vocab_dict.keys()),\n",
    "            kenlm_model_path=kenlm_model_path,\n",
    "            alpha=alpha\n",
    "        )\n",
    "        self.processor_with_lm = Wav2Vec2ProcessorWithLM(\n",
    "            feature_extractor=self.processor.feature_extractor,\n",
    "            tokenizer=self.processor.tokenizer,\n",
    "            decoder=self.decoder\n",
    "        )\n",
    "        self.model = Wav2Vec2ForCTC.from_pretrained(huggingface_folder).to(self.device)\n",
    "        if w2v_model_path is not None:\n",
    "            self.preload_model(w2v_model_path)\n",
    "\n",
    "\n",
    "    def preload_model(self, model_path) -> None:\n",
    "        \"\"\"\n",
    "        Preload model parameters (in \"*.tar\" format) at the start of experiment.\n",
    "        Args:\n",
    "            model_path: The file path of the *.tar file\n",
    "        \"\"\"\n",
    "        assert os.path.exists(model_path), f\"The file {model_path} is not exist. please check path.\"\n",
    "        checkpoint = torch.load(model_path, map_location=self.device)\n",
    "        self.model.load_state_dict(checkpoint, strict = True)\n",
    "        print(f\"Model preloaded successfully from {model_path}.\")\n",
    "\n",
    "\n",
    "    def transcribe(self, wav) -> str:\n",
    "        input_values = self.processor(wav, sampling_rate=16000, return_tensors=\"pt\").input_values\n",
    "        logits = self.model(input_values.to(self.device)).logits\n",
    "        pred_ids = torch.argmax(logits, dim=-1)\n",
    "        pred_transcript = self.processor.batch_decode(pred_ids)[0]\n",
    "        return pred_transcript\n",
    "\n",
    "    def run(self, test_filepath):\n",
    "        filename = test_filepath.split('/')[-1].split('.')[0]\n",
    "        filetype = test_filepath.split('.')[1]\n",
    "        if filetype == 'txt':\n",
    "            f = open(test_filepath, 'r')\n",
    "            lines = f.read().splitlines()\n",
    "            f.close()\n",
    "\n",
    "            f = open(test_filepath.replace(filename, 'transcript_'+filename), 'w+')\n",
    "            for line in tqdm(lines):\n",
    "                wav, _ = librosa.load(line, sr = 16000)\n",
    "                transcript = self.transcribe(wav)\n",
    "                f.write(line + ' ' + transcript + '\\n')\n",
    "            f.close()\n",
    "\n",
    "        else:\n",
    "            wav, _ = librosa.load(test_filepath, sr = 16000)\n",
    "            return self.transcribe(wav)"
   ]
  },
  {
   "cell_type": "code",
   "execution_count": 30,
   "metadata": {},
   "outputs": [
    {
     "name": "stderr",
     "output_type": "stream",
     "text": [
      "Special tokens have been added in the vocabulary, make sure the associated word embeddings are fine-tuned or trained.\n",
      "Loading the LM will be faster if you build a binary file.\n",
      "Reading /home/jovyan/ai-core/speech_to_text/nghia_semi_supervised/icra/5gram_correct.arpa\n",
      "----5---10---15---20---25---30---35---40---45---50---55---60---65---70---75---80---85---90---95--100\n",
      "****************************************************************************************************\n",
      "Found entries of length > 1 in alphabet. This is unusual unless style is BPE, but the alphabet was not recognized as BPE type. Is this correct?\n",
      "Unigrams and labels don't seem to agree.\n",
      "/home/jovyan/ai-core/miniconda3/envs/contentvec/lib/python3.7/site-packages/transformers/configuration_utils.py:381: UserWarning: Passing `gradient_checkpointing` to a config initialization is deprecated and will be removed in v5 Transformers. Using `model.gradient_checkpointing_enable()` instead, or if you are using the `Trainer` API, pass `gradient_checkpointing=True` in your `TrainingArguments`.\n",
      "  \"Passing `gradient_checkpointing` to a config initialization is deprecated and will be removed in v5 \"\n"
     ]
    },
    {
     "name": "stdout",
     "output_type": "stream",
     "text": [
      "Model preloaded successfully from custom_model/pytorch_model.bin.\n"
     ]
    }
   ],
   "source": [
    "from IPython.display import Audio\n",
    "from jiwer import wer\n",
    "import os\n",
    "import torch\n",
    "\n",
    "inference = Inferencer(device = \"cuda\", \n",
    "                        huggingface_folder=\"custom_model\",\n",
    "                        w2v_model_path=\"custom_model/pytorch_model.bin\",\n",
    "                        kenlm_model_path=\"5gram_correct.arpa\")"
   ]
  },
  {
   "cell_type": "code",
   "execution_count": 31,
   "metadata": {},
   "outputs": [
    {
     "name": "stderr",
     "output_type": "stream",
     "text": [
      "26937it [08:22, 53.61it/s]\n"
     ]
    }
   ],
   "source": [
    "import librosa\n",
    "from tqdm import tqdm\n",
    "predict_sentences = []\n",
    "WERs = []\n",
    "for _, row in tqdm(df_test.iterrows()):\n",
    "    predict_sentence = inference.run(row[\"audio\"])\n",
    "    predict_sentences.append(predict_sentence)\n",
    "    wer_score = wer(row[\"labeled_text\"], predict_sentence)\n",
    "    WERs.append(wer_score)"
   ]
  },
  {
   "cell_type": "code",
   "execution_count": 32,
   "metadata": {},
   "outputs": [
    {
     "data": {
      "text/plain": [
       "0.6144393445218221"
      ]
     },
     "execution_count": 32,
     "metadata": {},
     "output_type": "execute_result"
    }
   ],
   "source": [
    "df_test[\"predict_text\"] = predict_sentences\n",
    "df_test[\"WER\"] = WERs\n",
    "df_test[\"WER\"].mean()"
   ]
  },
  {
   "cell_type": "code",
   "execution_count": 43,
   "metadata": {},
   "outputs": [
    {
     "data": {
      "text/plain": [
       "<bound method NDFrame._add_numeric_operations.<locals>.mean of 0        1.000000\n",
       "1        0.250000\n",
       "2        1.000000\n",
       "3        0.571429\n",
       "4        0.666667\n",
       "           ...   \n",
       "26932    0.166667\n",
       "26933    0.090909\n",
       "26934    0.125000\n",
       "26935    0.217391\n",
       "26936    1.000000\n",
       "Name: WER, Length: 26937, dtype: float64>"
      ]
     },
     "execution_count": 43,
     "metadata": {},
     "output_type": "execute_result"
    }
   ],
   "source": [
    "df_test[\"WER\"].mean"
   ]
  },
  {
   "cell_type": "code",
   "execution_count": 39,
   "metadata": {},
   "outputs": [],
   "source": [
    "import matplotlib.pyplot as plt"
   ]
  },
  {
   "cell_type": "code",
   "execution_count": 41,
   "metadata": {},
   "outputs": [
    {
     "data": {
      "image/png": "[encoded data removed]",
      "text/plain": [
       "<Figure size 1000x600 with 1 Axes>"
      ]
     },
     "metadata": {},
     "output_type": "display_data"
    },
    {
     "data": {
      "text/plain": [
       "0.0     0.000000\n",
       "0.1     0.096774\n",
       "0.2     0.211538\n",
       "0.3     0.294118\n",
       "0.4     0.375000\n",
       "0.5     0.500000\n",
       "0.6     0.571429\n",
       "0.7     0.750000\n",
       "0.8     1.000000\n",
       "0.9     1.000000\n",
       "1.0    63.000000\n",
       "Name: WER, dtype: float64"
      ]
     },
     "execution_count": 41,
     "metadata": {},
     "output_type": "execute_result"
    }
   ],
   "source": [
    "plt.figure(figsize=(10, 6))\n",
    "plt.hist(df_test[\"WER\"], bins=50, edgecolor=\"k\", alpha=0.7)\n",
    "plt.title(\"Distribution of WER\", fontsize=16)\n",
    "plt.xlabel(\"WER (%)\", fontsize=14)\n",
    "plt.ylabel(\"Frequency\", fontsize=14)\n",
    "plt.grid(axis='y', linestyle='--', alpha=0.7)\n",
    "plt.show()\n",
    "\n",
    "# Tính các percentile (quartiles) của WER\n",
    "quantiles = df_test[\"WER\"].quantile([0, 0.1, 0.2, 0.3, 0.4, 0.5, 0.6, 0.7, 0.8, 0.9, 1.0])\n",
    "\n",
    "# Hiển thị kết quả\n",
    "quantiles"
   ]
  },
  {
   "cell_type": "code",
   "execution_count": 54,
   "metadata": {},
   "outputs": [],
   "source": [
    "df_test_filter = df_test[df_test[\"WER\"]<0.6]"
   ]
  },
  {
   "cell_type": "code",
   "execution_count": 55,
   "metadata": {},
   "outputs": [
    {
     "data": {
      "text/html": [
       "<div>\n",
       "<style scoped>\n",
       "    .dataframe tbody tr th:only-of-type {\n",
       "        vertical-align: middle;\n",
       "    }\n",
       "\n",
       "    .dataframe tbody tr th {\n",
       "        vertical-align: top;\n",
       "    }\n",
       "\n",
       "    .dataframe thead th {\n",
       "        text-align: right;\n",
       "    }\n",
       "</style>\n",
       "<table border=\"1\" class=\"dataframe\">\n",
       "  <thead>\n",
       "    <tr style=\"text-align: right;\">\n",
       "      <th></th>\n",
       "      <th>audio</th>\n",
       "      <th>labeled_text</th>\n",
       "      <th>predict_text</th>\n",
       "      <th>WER</th>\n",
       "    </tr>\n",
       "  </thead>\n",
       "  <tbody>\n",
       "    <tr>\n",
       "      <th>1</th>\n",
       "      <td>/home/jovyan/ai-core/speech_to_text/data/ghtk/...</td>\n",
       "      <td>mình đang đi làm</td>\n",
       "      <td>mình đã đi làm</td>\n",
       "      <td>0.250000</td>\n",
       "    </tr>\n",
       "    <tr>\n",
       "      <th>3</th>\n",
       "      <td>/home/jovyan/ai-core/speech_to_text/data/ghtk/...</td>\n",
       "      <td>mưa em có giao đâu đấy đấy</td>\n",
       "      <td>hớng em có rao đâu đ anh đấy đấy</td>\n",
       "      <td>0.571429</td>\n",
       "    </tr>\n",
       "    <tr>\n",
       "      <th>5</th>\n",
       "      <td>/home/jovyan/ai-core/speech_to_text/data/ghtk/...</td>\n",
       "      <td>trong nhà máy ấy ừ anh có để xe ô tô trong đấy mà</td>\n",
       "      <td>&lt;unk&gt; nhà máy đi ừ anh có để xe ô tô trongđấy mà</td>\n",
       "      <td>0.285714</td>\n",
       "    </tr>\n",
       "    <tr>\n",
       "      <th>6</th>\n",
       "      <td>/home/jovyan/ai-core/speech_to_text/data/ghtk/...</td>\n",
       "      <td>không nhà mười một tầng ý</td>\n",
       "      <td>ngày mười một tuần ý</td>\n",
       "      <td>0.500000</td>\n",
       "    </tr>\n",
       "    <tr>\n",
       "      <th>8</th>\n",
       "      <td>/home/jovyan/ai-core/speech_to_text/data/ghtk/...</td>\n",
       "      <td>anh có cái đơn hàng bếp ấy</td>\n",
       "      <td>anh có cái đơn hàng bếp đấy</td>\n",
       "      <td>0.142857</td>\n",
       "    </tr>\n",
       "    <tr>\n",
       "      <th>...</th>\n",
       "      <td>...</td>\n",
       "      <td>...</td>\n",
       "      <td>...</td>\n",
       "      <td>...</td>\n",
       "    </tr>\n",
       "    <tr>\n",
       "      <th>26931</th>\n",
       "      <td>/home/jovyan/ai-core/speech_to_text/data/ghtk/...</td>\n",
       "      <td>anh ơi mình hẹn lúc nào thì mình chắc chắn giú...</td>\n",
       "      <td>anh ơi mình hẹn lúc lúc nào thì mình chắc chắn...</td>\n",
       "      <td>0.173913</td>\n",
       "    </tr>\n",
       "    <tr>\n",
       "      <th>26932</th>\n",
       "      <td>/home/jovyan/ai-core/speech_to_text/data/ghtk/...</td>\n",
       "      <td>thế khi nào thì mình nhận được cái đơn hàng này à</td>\n",
       "      <td>thế khi nào thì mình nhận được cá đơn hàng này ạ</td>\n",
       "      <td>0.166667</td>\n",
       "    </tr>\n",
       "    <tr>\n",
       "      <th>26933</th>\n",
       "      <td>/home/jovyan/ai-core/speech_to_text/data/ghtk/...</td>\n",
       "      <td>khi nào thì mình nhận được cái đơn hàng này à</td>\n",
       "      <td>khi nào thì mình nhận được cái đơn hàng này ạ</td>\n",
       "      <td>0.090909</td>\n",
       "    </tr>\n",
       "    <tr>\n",
       "      <th>26934</th>\n",
       "      <td>/home/jovyan/ai-core/speech_to_text/data/ghtk/...</td>\n",
       "      <td>trong sáng mai là được đúng không à</td>\n",
       "      <td>trong sáng mai là được đúng không ạ</td>\n",
       "      <td>0.125000</td>\n",
       "    </tr>\n",
       "    <tr>\n",
       "      <th>26935</th>\n",
       "      <td>/home/jovyan/ai-core/speech_to_text/data/ghtk/...</td>\n",
       "      <td>vâng vâng thế để em báo giao lại sáng ngày mai...</td>\n",
       "      <td>vầng vầng thế để em báo rao lại sáng ngày mai ...</td>\n",
       "      <td>0.217391</td>\n",
       "    </tr>\n",
       "  </tbody>\n",
       "</table>\n",
       "<p>16318 rows × 4 columns</p>\n",
       "</div>"
      ],
      "text/plain": [
       "                                                   audio  \\\n",
       "1      /home/jovyan/ai-core/speech_to_text/data/ghtk/...   \n",
       "3      /home/jovyan/ai-core/speech_to_text/data/ghtk/...   \n",
       "5      /home/jovyan/ai-core/speech_to_text/data/ghtk/...   \n",
       "6      /home/jovyan/ai-core/speech_to_text/data/ghtk/...   \n",
       "8      /home/jovyan/ai-core/speech_to_text/data/ghtk/...   \n",
       "...                                                  ...   \n",
       "26931  /home/jovyan/ai-core/speech_to_text/data/ghtk/...   \n",
       "26932  /home/jovyan/ai-core/speech_to_text/data/ghtk/...   \n",
       "26933  /home/jovyan/ai-core/speech_to_text/data/ghtk/...   \n",
       "26934  /home/jovyan/ai-core/speech_to_text/data/ghtk/...   \n",
       "26935  /home/jovyan/ai-core/speech_to_text/data/ghtk/...   \n",
       "\n",
       "                                            labeled_text  \\\n",
       "1                                       mình đang đi làm   \n",
       "3                             mưa em có giao đâu đấy đấy   \n",
       "5      trong nhà máy ấy ừ anh có để xe ô tô trong đấy mà   \n",
       "6                              không nhà mười một tầng ý   \n",
       "8                             anh có cái đơn hàng bếp ấy   \n",
       "...                                                  ...   \n",
       "26931  anh ơi mình hẹn lúc nào thì mình chắc chắn giú...   \n",
       "26932  thế khi nào thì mình nhận được cái đơn hàng này à   \n",
       "26933      khi nào thì mình nhận được cái đơn hàng này à   \n",
       "26934                trong sáng mai là được đúng không à   \n",
       "26935  vâng vâng thế để em báo giao lại sáng ngày mai...   \n",
       "\n",
       "                                            predict_text       WER  \n",
       "1                                         mình đã đi làm  0.250000  \n",
       "3                       hớng em có rao đâu đ anh đấy đấy  0.571429  \n",
       "5       <unk> nhà máy đi ừ anh có để xe ô tô trongđấy mà  0.285714  \n",
       "6                                   ngày mười một tuần ý  0.500000  \n",
       "8                            anh có cái đơn hàng bếp đấy  0.142857  \n",
       "...                                                  ...       ...  \n",
       "26931  anh ơi mình hẹn lúc lúc nào thì mình chắc chắn...  0.173913  \n",
       "26932   thế khi nào thì mình nhận được cá đơn hàng này ạ  0.166667  \n",
       "26933      khi nào thì mình nhận được cái đơn hàng này ạ  0.090909  \n",
       "26934                trong sáng mai là được đúng không ạ  0.125000  \n",
       "26935  vầng vầng thế để em báo rao lại sáng ngày mai ...  0.217391  \n",
       "\n",
       "[16318 rows x 4 columns]"
      ]
     },
     "execution_count": 55,
     "metadata": {},
     "output_type": "execute_result"
    }
   ],
   "source": [
    "df_test_filter"
   ]
  },
  {
   "cell_type": "code",
   "execution_count": 56,
   "metadata": {},
   "outputs": [
    {
     "name": "stderr",
     "output_type": "stream",
     "text": [
      "/home/jovyan/ai-core/miniconda3/envs/contentvec/lib/python3.7/site-packages/pandas/core/frame.py:4913: SettingWithCopyWarning: \n",
      "A value is trying to be set on a copy of a slice from a DataFrame\n",
      "\n",
      "See the caveats in the documentation: https://pandas.pydata.org/pandas-docs/stable/user_guide/indexing.html#returning-a-view-versus-a-copy\n",
      "  errors=errors,\n"
     ]
    }
   ],
   "source": [
    "df_test_filter.drop(columns=[\"predict_text\",\"WER\"],inplace=True)"
   ]
  },
  {
   "cell_type": "code",
   "execution_count": 57,
   "metadata": {},
   "outputs": [
    {
     "data": {
      "text/html": [
       "<div>\n",
       "<style scoped>\n",
       "    .dataframe tbody tr th:only-of-type {\n",
       "        vertical-align: middle;\n",
       "    }\n",
       "\n",
       "    .dataframe tbody tr th {\n",
       "        vertical-align: top;\n",
       "    }\n",
       "\n",
       "    .dataframe thead th {\n",
       "        text-align: right;\n",
       "    }\n",
       "</style>\n",
       "<table border=\"1\" class=\"dataframe\">\n",
       "  <thead>\n",
       "    <tr style=\"text-align: right;\">\n",
       "      <th></th>\n",
       "      <th>audio</th>\n",
       "      <th>labeled_text</th>\n",
       "    </tr>\n",
       "  </thead>\n",
       "  <tbody>\n",
       "    <tr>\n",
       "      <th>1</th>\n",
       "      <td>/home/jovyan/ai-core/speech_to_text/data/ghtk/...</td>\n",
       "      <td>mình đang đi làm</td>\n",
       "    </tr>\n",
       "    <tr>\n",
       "      <th>3</th>\n",
       "      <td>/home/jovyan/ai-core/speech_to_text/data/ghtk/...</td>\n",
       "      <td>mưa em có giao đâu đấy đấy</td>\n",
       "    </tr>\n",
       "    <tr>\n",
       "      <th>5</th>\n",
       "      <td>/home/jovyan/ai-core/speech_to_text/data/ghtk/...</td>\n",
       "      <td>trong nhà máy ấy ừ anh có để xe ô tô trong đấy mà</td>\n",
       "    </tr>\n",
       "    <tr>\n",
       "      <th>6</th>\n",
       "      <td>/home/jovyan/ai-core/speech_to_text/data/ghtk/...</td>\n",
       "      <td>không nhà mười một tầng ý</td>\n",
       "    </tr>\n",
       "    <tr>\n",
       "      <th>8</th>\n",
       "      <td>/home/jovyan/ai-core/speech_to_text/data/ghtk/...</td>\n",
       "      <td>anh có cái đơn hàng bếp ấy</td>\n",
       "    </tr>\n",
       "    <tr>\n",
       "      <th>...</th>\n",
       "      <td>...</td>\n",
       "      <td>...</td>\n",
       "    </tr>\n",
       "    <tr>\n",
       "      <th>26931</th>\n",
       "      <td>/home/jovyan/ai-core/speech_to_text/data/ghtk/...</td>\n",
       "      <td>anh ơi mình hẹn lúc nào thì mình chắc chắn giú...</td>\n",
       "    </tr>\n",
       "    <tr>\n",
       "      <th>26932</th>\n",
       "      <td>/home/jovyan/ai-core/speech_to_text/data/ghtk/...</td>\n",
       "      <td>thế khi nào thì mình nhận được cái đơn hàng này à</td>\n",
       "    </tr>\n",
       "    <tr>\n",
       "      <th>26933</th>\n",
       "      <td>/home/jovyan/ai-core/speech_to_text/data/ghtk/...</td>\n",
       "      <td>khi nào thì mình nhận được cái đơn hàng này à</td>\n",
       "    </tr>\n",
       "    <tr>\n",
       "      <th>26934</th>\n",
       "      <td>/home/jovyan/ai-core/speech_to_text/data/ghtk/...</td>\n",
       "      <td>trong sáng mai là được đúng không à</td>\n",
       "    </tr>\n",
       "    <tr>\n",
       "      <th>26935</th>\n",
       "      <td>/home/jovyan/ai-core/speech_to_text/data/ghtk/...</td>\n",
       "      <td>vâng vâng thế để em báo giao lại sáng ngày mai...</td>\n",
       "    </tr>\n",
       "  </tbody>\n",
       "</table>\n",
       "<p>16318 rows × 2 columns</p>\n",
       "</div>"
      ],
      "text/plain": [
       "                                                   audio  \\\n",
       "1      /home/jovyan/ai-core/speech_to_text/data/ghtk/...   \n",
       "3      /home/jovyan/ai-core/speech_to_text/data/ghtk/...   \n",
       "5      /home/jovyan/ai-core/speech_to_text/data/ghtk/...   \n",
       "6      /home/jovyan/ai-core/speech_to_text/data/ghtk/...   \n",
       "8      /home/jovyan/ai-core/speech_to_text/data/ghtk/...   \n",
       "...                                                  ...   \n",
       "26931  /home/jovyan/ai-core/speech_to_text/data/ghtk/...   \n",
       "26932  /home/jovyan/ai-core/speech_to_text/data/ghtk/...   \n",
       "26933  /home/jovyan/ai-core/speech_to_text/data/ghtk/...   \n",
       "26934  /home/jovyan/ai-core/speech_to_text/data/ghtk/...   \n",
       "26935  /home/jovyan/ai-core/speech_to_text/data/ghtk/...   \n",
       "\n",
       "                                            labeled_text  \n",
       "1                                       mình đang đi làm  \n",
       "3                             mưa em có giao đâu đấy đấy  \n",
       "5      trong nhà máy ấy ừ anh có để xe ô tô trong đấy mà  \n",
       "6                              không nhà mười một tầng ý  \n",
       "8                             anh có cái đơn hàng bếp ấy  \n",
       "...                                                  ...  \n",
       "26931  anh ơi mình hẹn lúc nào thì mình chắc chắn giú...  \n",
       "26932  thế khi nào thì mình nhận được cái đơn hàng này à  \n",
       "26933      khi nào thì mình nhận được cái đơn hàng này à  \n",
       "26934                trong sáng mai là được đúng không à  \n",
       "26935  vâng vâng thế để em báo giao lại sáng ngày mai...  \n",
       "\n",
       "[16318 rows x 2 columns]"
      ]
     },
     "execution_count": 57,
     "metadata": {},
     "output_type": "execute_result"
    }
   ],
   "source": [
    "df_test_filter"
   ]
  },
  {
   "cell_type": "code",
   "execution_count": null,
   "metadata": {},
   "outputs": [],
   "source": [
    "df_test_filter.to_csv(\"filtered_train_data.csv\", index=False)"
   ]
  },
  {
   "cell_type": "code",
   "execution_count": 23,
   "metadata": {},
   "outputs": [],
   "source": [
    "df_test.to_excel(\"result_text.xlsx\", index = False)"
   ]
  },
  {
   "cell_type": "code",
   "execution_count": 11,
   "metadata": {},
   "outputs": [],
   "source": [
    "df_test_sample[\"predict_text\"] = predict_sentences\n",
    "df_test_sample[\"WER\"] = WERs"
   ]
  },
  {
   "cell_type": "code",
   "execution_count": 12,
   "metadata": {},
   "outputs": [
    {
     "data": {
      "text/plain": [
       "0.18403688141923435"
      ]
     },
     "execution_count": 12,
     "metadata": {},
     "output_type": "execute_result"
    }
   ],
   "source": [
    "df_test_sample[\"WER\"].mean()"
   ]
  },
  {
   "cell_type": "code",
   "execution_count": 13,
   "metadata": {},
   "outputs": [],
   "source": [
    "df_test_sample[\"fix_labeled_text\"] = df_test_sample[\"labeled_text\"]\n",
    "df_test_sample[\"new_WER\"] = df_test_sample[\"WER\"]"
   ]
  },
  {
   "cell_type": "code",
   "execution_count": 83,
   "metadata": {},
   "outputs": [
    {
     "name": "stdout",
     "output_type": "stream",
     "text": [
      "Old text:  à ngõ đấy \n",
      "Predict:  chảg ngõ en\n",
      "WER:  0.6666666666666666\n"
     ]
    },
    {
     "data": {
      "text/html": [
       "\n",
       "                <audio  controls=\"controls\" >\n",
       "                    <source src=\"data:audio/x-wav;base64,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\" type=\"audio/x-wav\" />\n",
       "                    Your browser does not support the audio element.\n",
       "                </audio>\n",
       "              "
      ],
      "text/plain": [
       "<IPython.lib.display.Audio object>"
      ]
     },
     "execution_count": 83,
     "metadata": {},
     "output_type": "execute_result"
    }
   ],
   "source": [
    "i = 49\n",
    "sample = df_test_sample.iloc[i]\n",
    "print(\"Old text: \", sample[\"labeled_text\"])\n",
    "print(\"Predict: \", sample[\"predict_text\"])\n",
    "print(\"WER: \", sample[\"WER\"])\n",
    "Audio(sample[\"audio\"])"
   ]
  },
  {
   "cell_type": "code",
   "execution_count": null,
   "metadata": {},
   "outputs": [],
   "source": [
    "à ngõ ấy em đây"
   ]
  },
  {
   "cell_type": "code",
   "execution_count": 87,
   "metadata": {},
   "outputs": [
    {
     "name": "stdout",
     "output_type": "stream",
     "text": [
      "New WER:  0.8\n"
     ]
    }
   ],
   "source": [
    "fix_label = input(\"Nhập câu đã sửa: \")\n",
    "df_test_sample.iloc[i,4] = fix_label\n",
    "df_test_sample.iloc[i,5] = wer(fix_label, sample[\"predict_text\"])\n",
    "print(\"New WER: \",df_test_sample.iloc[i,5])\n",
    "df_test_sample.to_csv(\"random_sample_test.csv\", index = False)"
   ]
  },
  {
   "cell_type": "code",
   "execution_count": 85,
   "metadata": {},
   "outputs": [
    {
     "name": "stdout",
     "output_type": "stream",
     "text": [
      "0.44590637862309684\n",
      "0.34773358993947234\n"
     ]
    }
   ],
   "source": [
    "print(df_test_sample[\"WER\"].mean())\n",
    "print(df_test_sample[\"new_WER\"].mean())"
   ]
  },
  {
   "cell_type": "code",
   "execution_count": 89,
   "metadata": {},
   "outputs": [
    {
     "data": {
      "text/html": [
       "<div>\n",
       "<style scoped>\n",
       "    .dataframe tbody tr th:only-of-type {\n",
       "        vertical-align: middle;\n",
       "    }\n",
       "\n",
       "    .dataframe tbody tr th {\n",
       "        vertical-align: top;\n",
       "    }\n",
       "\n",
       "    .dataframe thead th {\n",
       "        text-align: right;\n",
       "    }\n",
       "</style>\n",
       "<table border=\"1\" class=\"dataframe\">\n",
       "  <thead>\n",
       "    <tr style=\"text-align: right;\">\n",
       "      <th></th>\n",
       "      <th>audio</th>\n",
       "      <th>labeled_text</th>\n",
       "      <th>predict_text</th>\n",
       "      <th>WER</th>\n",
       "      <th>fix_labeled_text</th>\n",
       "      <th>new_WER</th>\n",
       "    </tr>\n",
       "  </thead>\n",
       "  <tbody>\n",
       "    <tr>\n",
       "      <th>3105</th>\n",
       "      <td>/home/jovyan/ai-core/speech_to_text/data/ghtk/...</td>\n",
       "      <td>ừ ừ ừ nhá</td>\n",
       "      <td>ừ ừ hế nhỉ</td>\n",
       "      <td>0.500000</td>\n",
       "      <td>ừ ừ nhá</td>\n",
       "      <td>0.666667</td>\n",
       "    </tr>\n",
       "    <tr>\n",
       "      <th>2599</th>\n",
       "      <td>/home/jovyan/ai-core/speech_to_text/data/ghtk/...</td>\n",
       "      <td>chị ơi cái đơn có đơn hàng lần trước em giao c...</td>\n",
       "      <td>chị ơi cái đơn đ có đơn hàng lần trước em giào...</td>\n",
       "      <td>0.222222</td>\n",
       "      <td>chị ơi cái đơn dơn có đơn hàng lần trước em gi...</td>\n",
       "      <td>0.166667</td>\n",
       "    </tr>\n",
       "    <tr>\n",
       "      <th>3417</th>\n",
       "      <td>/home/jovyan/ai-core/speech_to_text/data/ghtk/...</td>\n",
       "      <td>cái xịt mối hay sao ý chị ơi</td>\n",
       "      <td>ái sit là muối hsao chị ơi</td>\n",
       "      <td>0.750000</td>\n",
       "      <td>cái xịt mối sao ý chị ơi</td>\n",
       "      <td>0.714286</td>\n",
       "    </tr>\n",
       "    <tr>\n",
       "      <th>2606</th>\n",
       "      <td>/home/jovyan/ai-core/speech_to_text/data/ghtk/...</td>\n",
       "      <td>alo</td>\n",
       "      <td>ừ</td>\n",
       "      <td>1.000000</td>\n",
       "      <td>ừ</td>\n",
       "      <td>0.000000</td>\n",
       "    </tr>\n",
       "    <tr>\n",
       "      <th>2891</th>\n",
       "      <td>/home/jovyan/ai-core/speech_to_text/data/ghtk/...</td>\n",
       "      <td>đơn đấy chỗ chỗ nào nhờ</td>\n",
       "      <td>chn tấn ở s này shỗ nào đị ạ</td>\n",
       "      <td>1.333333</td>\n",
       "      <td>đơn đấy ở chỗ là chỗ nào nhở</td>\n",
       "      <td>0.875000</td>\n",
       "    </tr>\n",
       "    <tr>\n",
       "      <th>412</th>\n",
       "      <td>/home/jovyan/ai-core/speech_to_text/data/ghtk/...</td>\n",
       "      <td>em giao đơn laptop một trăm mười hai tổ mười t...</td>\n",
       "      <td>cái giao đơn lapp top và một trăm mười hai tổn...</td>\n",
       "      <td>0.315789</td>\n",
       "      <td>em giao đơn laptop về một trăm mười hai tổ mườ...</td>\n",
       "      <td>0.300000</td>\n",
       "    </tr>\n",
       "    <tr>\n",
       "      <th>950</th>\n",
       "      <td>/home/jovyan/ai-core/speech_to_text/data/ghtk/...</td>\n",
       "      <td>em đang cổng chỗ là ấy chỗ chỗ chỉ thi bảo vệ ...</td>\n",
       "      <td>en đang cổmg chỗ à đấy chỗ chỗ chị phí bảo vệ ...</td>\n",
       "      <td>0.388889</td>\n",
       "      <td>em đang cổng chỗ là ấy chỗ chỗ chị thuý bảo vệ...</td>\n",
       "      <td>0.277778</td>\n",
       "    </tr>\n",
       "    <tr>\n",
       "      <th>1934</th>\n",
       "      <td>/home/jovyan/ai-core/speech_to_text/data/ghtk/...</td>\n",
       "      <td>ờ ờ hàng đào đúng rồi ừ thế rồi em cứ vứt vào ...</td>\n",
       "      <td>ừ ừ hàng đào đúng rồi ừ thế thì em cứ vướt vào...</td>\n",
       "      <td>0.333333</td>\n",
       "      <td>ờ ờ hàng đào đúng rồi ừ thế thì em cứ vứt vào ...</td>\n",
       "      <td>0.235294</td>\n",
       "    </tr>\n",
       "    <tr>\n",
       "      <th>1037</th>\n",
       "      <td>/home/jovyan/ai-core/speech_to_text/data/ghtk/...</td>\n",
       "      <td>không không nó ở nhà em ở ngay mặt đường đối d...</td>\n",
       "      <td>không không đâunhà em ở ngay bặn đường thôi đố...</td>\n",
       "      <td>0.500000</td>\n",
       "      <td>không không nó ở nhà em ở ngay mặt đường thôi ...</td>\n",
       "      <td>0.466667</td>\n",
       "    </tr>\n",
       "    <tr>\n",
       "      <th>2669</th>\n",
       "      <td>/home/jovyan/ai-core/speech_to_text/data/ghtk/...</td>\n",
       "      <td>cái gì đấy anh nhờ</td>\n",
       "      <td>cái gì đấy anh nhở</td>\n",
       "      <td>0.200000</td>\n",
       "      <td>cái gì đấy anh nhở</td>\n",
       "      <td>0.000000</td>\n",
       "    </tr>\n",
       "    <tr>\n",
       "      <th>1039</th>\n",
       "      <td>/home/jovyan/ai-core/speech_to_text/data/ghtk/...</td>\n",
       "      <td>không có cả</td>\n",
       "      <td>sao cái</td>\n",
       "      <td>1.000000</td>\n",
       "      <td>sao cái</td>\n",
       "      <td>0.000000</td>\n",
       "    </tr>\n",
       "    <tr>\n",
       "      <th>2032</th>\n",
       "      <td>/home/jovyan/ai-core/speech_to_text/data/ghtk/...</td>\n",
       "      <td>ô kê ô kê ô kê em biết rôi ô kê để em gọi</td>\n",
       "      <td>ô kê ô kê ô kê với t ô kê vậy</td>\n",
       "      <td>0.428571</td>\n",
       "      <td>ô kê ô kê ô kê biết rôi ô kê ô kê để em gọi</td>\n",
       "      <td>0.466667</td>\n",
       "    </tr>\n",
       "    <tr>\n",
       "      <th>3812</th>\n",
       "      <td>/home/jovyan/ai-core/speech_to_text/data/ghtk/...</td>\n",
       "      <td>là đi đến cái miếu vào ngó đường của cái miếu ...</td>\n",
       "      <td>tức là đi đến cái miếu và hgõd đương có cái mi...</td>\n",
       "      <td>0.428571</td>\n",
       "      <td>là đi đến cái miếu vào ngõ đường của cái miếu ...</td>\n",
       "      <td>0.357143</td>\n",
       "    </tr>\n",
       "    <tr>\n",
       "      <th>815</th>\n",
       "      <td>/home/jovyan/ai-core/speech_to_text/data/ghtk/...</td>\n",
       "      <td>à</td>\n",
       "      <td>vâng</td>\n",
       "      <td>1.000000</td>\n",
       "      <td>vâng</td>\n",
       "      <td>0.000000</td>\n",
       "    </tr>\n",
       "    <tr>\n",
       "      <th>2328</th>\n",
       "      <td>/home/jovyan/ai-core/speech_to_text/data/ghtk/...</td>\n",
       "      <td>em về chưa nhở anh đang ở cổng đấy</td>\n",
       "      <td>ế vớ về chu nhở anhình đang đở cổmg đ đây</td>\n",
       "      <td>0.888889</td>\n",
       "      <td>em về chưa nhở anh đang ở cổng đây</td>\n",
       "      <td>0.777778</td>\n",
       "    </tr>\n",
       "    <tr>\n",
       "      <th>2336</th>\n",
       "      <td>/home/jovyan/ai-core/speech_to_text/data/ghtk/...</td>\n",
       "      <td>cô có nhà không ạ cháu giao đơn hai kẹp tóc đây ạ</td>\n",
       "      <td>cô ở nhà ang chéu giao đơn hay kẻm tóc vậy ạ</td>\n",
       "      <td>0.538462</td>\n",
       "      <td>cô có nhà không cháu giao đơn hai kẹp tóc với ạ</td>\n",
       "      <td>0.500000</td>\n",
       "    </tr>\n",
       "    <tr>\n",
       "      <th>1778</th>\n",
       "      <td>/home/jovyan/ai-core/speech_to_text/data/ghtk/...</td>\n",
       "      <td>dạ vâng vào chỗ quầy kính đấy à</td>\n",
       "      <td>đượcvào chỗ bầy kình ấy ạ</td>\n",
       "      <td>0.875000</td>\n",
       "      <td>được vào chỗ quầy kính đấy à</td>\n",
       "      <td>0.857143</td>\n",
       "    </tr>\n",
       "    <tr>\n",
       "      <th>1882</th>\n",
       "      <td>/home/jovyan/ai-core/speech_to_text/data/ghtk/...</td>\n",
       "      <td>ấy đoàn</td>\n",
       "      <td>đấy đàn</td>\n",
       "      <td>1.000000</td>\n",
       "      <td>đấy đàn</td>\n",
       "      <td>0.000000</td>\n",
       "    </tr>\n",
       "    <tr>\n",
       "      <th>493</th>\n",
       "      <td>/home/jovyan/ai-core/speech_to_text/data/ghtk/...</td>\n",
       "      <td>à ngõ đấy</td>\n",
       "      <td>chảg ngõ en</td>\n",
       "      <td>0.666667</td>\n",
       "      <td>à ngõ ấy em đây</td>\n",
       "      <td>0.800000</td>\n",
       "    </tr>\n",
       "  </tbody>\n",
       "</table>\n",
       "</div>"
      ],
      "text/plain": [
       "                                                  audio  \\\n",
       "3105  /home/jovyan/ai-core/speech_to_text/data/ghtk/...   \n",
       "2599  /home/jovyan/ai-core/speech_to_text/data/ghtk/...   \n",
       "3417  /home/jovyan/ai-core/speech_to_text/data/ghtk/...   \n",
       "2606  /home/jovyan/ai-core/speech_to_text/data/ghtk/...   \n",
       "2891  /home/jovyan/ai-core/speech_to_text/data/ghtk/...   \n",
       "412   /home/jovyan/ai-core/speech_to_text/data/ghtk/...   \n",
       "950   /home/jovyan/ai-core/speech_to_text/data/ghtk/...   \n",
       "1934  /home/jovyan/ai-core/speech_to_text/data/ghtk/...   \n",
       "1037  /home/jovyan/ai-core/speech_to_text/data/ghtk/...   \n",
       "2669  /home/jovyan/ai-core/speech_to_text/data/ghtk/...   \n",
       "1039  /home/jovyan/ai-core/speech_to_text/data/ghtk/...   \n",
       "2032  /home/jovyan/ai-core/speech_to_text/data/ghtk/...   \n",
       "3812  /home/jovyan/ai-core/speech_to_text/data/ghtk/...   \n",
       "815   /home/jovyan/ai-core/speech_to_text/data/ghtk/...   \n",
       "2328  /home/jovyan/ai-core/speech_to_text/data/ghtk/...   \n",
       "2336  /home/jovyan/ai-core/speech_to_text/data/ghtk/...   \n",
       "1778  /home/jovyan/ai-core/speech_to_text/data/ghtk/...   \n",
       "1882  /home/jovyan/ai-core/speech_to_text/data/ghtk/...   \n",
       "493   /home/jovyan/ai-core/speech_to_text/data/ghtk/...   \n",
       "\n",
       "                                           labeled_text  \\\n",
       "3105                                          ừ ừ ừ nhá   \n",
       "2599  chị ơi cái đơn có đơn hàng lần trước em giao c...   \n",
       "3417                       cái xịt mối hay sao ý chị ơi   \n",
       "2606                                                alo   \n",
       "2891                            đơn đấy chỗ chỗ nào nhờ   \n",
       "412   em giao đơn laptop một trăm mười hai tổ mười t...   \n",
       "950   em đang cổng chỗ là ấy chỗ chỗ chỉ thi bảo vệ ...   \n",
       "1934  ờ ờ hàng đào đúng rồi ừ thế rồi em cứ vứt vào ...   \n",
       "1037  không không nó ở nhà em ở ngay mặt đường đối d...   \n",
       "2669                                 cái gì đấy anh nhờ   \n",
       "1039                                        không có cả   \n",
       "2032          ô kê ô kê ô kê em biết rôi ô kê để em gọi   \n",
       "3812  là đi đến cái miếu vào ngó đường của cái miếu ...   \n",
       "815                                                   à   \n",
       "2328                 em về chưa nhở anh đang ở cổng đấy   \n",
       "2336  cô có nhà không ạ cháu giao đơn hai kẹp tóc đây ạ   \n",
       "1778                    dạ vâng vào chỗ quầy kính đấy à   \n",
       "1882                                            ấy đoàn   \n",
       "493                                          à ngõ đấy    \n",
       "\n",
       "                                           predict_text       WER  \\\n",
       "3105                                         ừ ừ hế nhỉ  0.500000   \n",
       "2599  chị ơi cái đơn đ có đơn hàng lần trước em giào...  0.222222   \n",
       "3417                         ái sit là muối hsao chị ơi  0.750000   \n",
       "2606                                                  ừ  1.000000   \n",
       "2891                       chn tấn ở s này shỗ nào đị ạ  1.333333   \n",
       "412   cái giao đơn lapp top và một trăm mười hai tổn...  0.315789   \n",
       "950   en đang cổmg chỗ à đấy chỗ chỗ chị phí bảo vệ ...  0.388889   \n",
       "1934  ừ ừ hàng đào đúng rồi ừ thế thì em cứ vướt vào...  0.333333   \n",
       "1037  không không đâunhà em ở ngay bặn đường thôi đố...  0.500000   \n",
       "2669                                 cái gì đấy anh nhở  0.200000   \n",
       "1039                                            sao cái  1.000000   \n",
       "2032                      ô kê ô kê ô kê với t ô kê vậy  0.428571   \n",
       "3812  tức là đi đến cái miếu và hgõd đương có cái mi...  0.428571   \n",
       "815                                                vâng  1.000000   \n",
       "2328          ế vớ về chu nhở anhình đang đở cổmg đ đây  0.888889   \n",
       "2336       cô ở nhà ang chéu giao đơn hay kẻm tóc vậy ạ  0.538462   \n",
       "1778                          đượcvào chỗ bầy kình ấy ạ  0.875000   \n",
       "1882                                            đấy đàn  1.000000   \n",
       "493                                         chảg ngõ en  0.666667   \n",
       "\n",
       "                                       fix_labeled_text   new_WER  \n",
       "3105                                            ừ ừ nhá  0.666667  \n",
       "2599  chị ơi cái đơn dơn có đơn hàng lần trước em gi...  0.166667  \n",
       "3417                           cái xịt mối sao ý chị ơi  0.714286  \n",
       "2606                                                  ừ  0.000000  \n",
       "2891                       đơn đấy ở chỗ là chỗ nào nhở  0.875000  \n",
       "412   em giao đơn laptop về một trăm mười hai tổ mườ...  0.300000  \n",
       "950   em đang cổng chỗ là ấy chỗ chỗ chị thuý bảo vệ...  0.277778  \n",
       "1934  ờ ờ hàng đào đúng rồi ừ thế thì em cứ vứt vào ...  0.235294  \n",
       "1037  không không nó ở nhà em ở ngay mặt đường thôi ...  0.466667  \n",
       "2669                                 cái gì đấy anh nhở  0.000000  \n",
       "1039                                            sao cái  0.000000  \n",
       "2032        ô kê ô kê ô kê biết rôi ô kê ô kê để em gọi  0.466667  \n",
       "3812  là đi đến cái miếu vào ngõ đường của cái miếu ...  0.357143  \n",
       "815                                                vâng  0.000000  \n",
       "2328                 em về chưa nhở anh đang ở cổng đây  0.777778  \n",
       "2336    cô có nhà không cháu giao đơn hai kẹp tóc với ạ  0.500000  \n",
       "1778                       được vào chỗ quầy kính đấy à  0.857143  \n",
       "1882                                            đấy đàn  0.000000  \n",
       "493                                     à ngõ ấy em đây  0.800000  "
      ]
     },
     "execution_count": 89,
     "metadata": {},
     "output_type": "execute_result"
    }
   ],
   "source": [
    "df_test_sample[df_test_sample[\"labeled_text\"] != df_test_sample[\"fix_labeled_text\"]]"
   ]
  },
  {
   "cell_type": "code",
   "execution_count": null,
   "metadata": {},
   "outputs": [],
   "source": []
  }
 ],
 "metadata": {
  "kernelspec": {
   "display_name": "Python 3",
   "language": "python",
   "name": "python3"
  },
  "language_info": {
   "codemirror_mode": {
    "name": "ipython",
    "version": 3
   },
   "file_extension": ".py",
   "mimetype": "text/x-python",
   "name": "python",
   "nbconvert_exporter": "python",
   "pygments_lexer": "ipython3",
   "version": "3.7.12"
  },
  "orig_nbformat": 4
 },
 "nbformat": 4,
 "nbformat_minor": 2
}
